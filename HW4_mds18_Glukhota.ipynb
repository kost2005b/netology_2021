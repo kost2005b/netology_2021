{
 "cells": [
  {
   "cell_type": "code",
   "execution_count": 187,
   "metadata": {},
   "outputs": [],
   "source": [
    "import numpy as np\n",
    "import matplotlib.pyplot as plt\n",
    "import sympy as sym"
   ]
  },
  {
   "cell_type": "markdown",
   "metadata": {},
   "source": [
    "# Задание 1\n",
    "Вычислить значения первой и второй производной функции:\n",
    "\n",
    "$f(x)  = x^5 + 4sin(2x) + cos(3x + 3)$\n",
    "\n",
    "В точке x=1"
   ]
  },
  {
   "cell_type": "code",
   "execution_count": 188,
   "metadata": {},
   "outputs": [],
   "source": [
    "#Зададим x как символ\n",
    "x = sym.Symbol('x')"
   ]
  },
  {
   "cell_type": "code",
   "execution_count": 189,
   "metadata": {},
   "outputs": [
    {
     "data": {
      "text/latex": [
       "$\\displaystyle x^{5} + 4 \\sin{\\left(2 x \\right)} + \\cos{\\left(3 x + 3 \\right)}$"
      ],
      "text/plain": [
       "x**5 + 4*sin(2*x) + cos(3*x + 3)"
      ]
     },
     "execution_count": 189,
     "metadata": {},
     "output_type": "execute_result"
    }
   ],
   "source": [
    "#вложим функцию в перемнную для удобства\n",
    "fx = x**5 + 4*sym.sin(2*x) + sym.cos(3*x + 3)\n",
    "fx"
   ]
  },
  {
   "cell_type": "markdown",
   "metadata": {},
   "source": [
    "#### Первая производная"
   ]
  },
  {
   "cell_type": "code",
   "execution_count": 190,
   "metadata": {},
   "outputs": [
    {
     "data": {
      "text/latex": [
       "$\\displaystyle 5 x^{4} - 3 \\sin{\\left(3 x + 3 \\right)} + 8 \\cos{\\left(2 x \\right)}$"
      ],
      "text/plain": [
       "5*x**4 - 3*sin(3*x + 3) + 8*cos(2*x)"
      ]
     },
     "execution_count": 190,
     "metadata": {},
     "output_type": "execute_result"
    }
   ],
   "source": [
    "#Функция\n",
    "dif1 = sym.diff(fx, x, 1)\n",
    "dif1"
   ]
  },
  {
   "cell_type": "code",
   "execution_count": 191,
   "metadata": {},
   "outputs": [
    {
     "data": {
      "text/latex": [
       "$\\displaystyle 8 \\cos{\\left(2 \\right)} - 3 \\sin{\\left(6 \\right)} + 5$"
      ],
      "text/plain": [
       "8*cos(2) - 3*sin(6) + 5"
      ]
     },
     "execution_count": 191,
     "metadata": {},
     "output_type": "execute_result"
    }
   ],
   "source": [
    "# Значение в точке x=1\n",
    "dif1.subs(x, 1)"
   ]
  },
  {
   "cell_type": "code",
   "execution_count": 192,
   "metadata": {},
   "outputs": [
    {
     "data": {
      "text/plain": [
       "2.5090718022196383"
      ]
     },
     "execution_count": 192,
     "metadata": {},
     "output_type": "execute_result"
    }
   ],
   "source": [
    "#Числом\n",
    "8 * np.cos(2) - 3*np.sin(6) + 5"
   ]
  },
  {
   "cell_type": "markdown",
   "metadata": {},
   "source": [
    "#### Вторая производная"
   ]
  },
  {
   "cell_type": "code",
   "execution_count": 193,
   "metadata": {},
   "outputs": [
    {
     "data": {
      "text/latex": [
       "$\\displaystyle 20 x^{3} - 16 \\sin{\\left(2 x \\right)} - 9 \\cos{\\left(3 \\left(x + 1\\right) \\right)}$"
      ],
      "text/plain": [
       "20*x**3 - 16*sin(2*x) - 9*cos(3*(x + 1))"
      ]
     },
     "execution_count": 193,
     "metadata": {},
     "output_type": "execute_result"
    }
   ],
   "source": [
    "#Функция\n",
    "dif2 = sym.diff(fx, x, 2)\n",
    "dif2"
   ]
  },
  {
   "cell_type": "code",
   "execution_count": 194,
   "metadata": {},
   "outputs": [
    {
     "data": {
      "text/latex": [
       "$\\displaystyle - 16 \\sin{\\left(2 \\right)} - 9 \\cos{\\left(6 \\right)} + 20$"
      ],
      "text/plain": [
       "-16*sin(2) - 9*cos(6) + 20"
      ]
     },
     "execution_count": 194,
     "metadata": {},
     "output_type": "execute_result"
    }
   ],
   "source": [
    "# Значение в точке x=1\n",
    "dif2.subs(x, 1)"
   ]
  },
  {
   "cell_type": "code",
   "execution_count": 195,
   "metadata": {},
   "outputs": [
    {
     "data": {
      "text/plain": [
       "-3.1902914090642014"
      ]
     },
     "execution_count": 195,
     "metadata": {},
     "output_type": "execute_result"
    }
   ],
   "source": [
    "#Числом\n",
    "-16 * np.sin(2) -9*np.cos(6) + 20"
   ]
  },
  {
   "cell_type": "markdown",
   "metadata": {},
   "source": [
    "# Задание 2\n",
    "\n",
    "Постройте график функции, первой и второй производной:\n",
    "\n",
    "$f(x) = sin^5(2x+1)$\n",
    "\n",
    "На отрезке [-5; 5]."
   ]
  },
  {
   "cell_type": "markdown",
   "metadata": {},
   "source": [
    "#### Для начала - найдем производные"
   ]
  },
  {
   "cell_type": "code",
   "execution_count": 196,
   "metadata": {},
   "outputs": [],
   "source": [
    "#Зададим x как символ\n",
    "x = sym.Symbol('x')"
   ]
  },
  {
   "cell_type": "code",
   "execution_count": 197,
   "metadata": {},
   "outputs": [
    {
     "data": {
      "text/latex": [
       "$\\displaystyle \\sin{\\left(2 x + 1 \\right)}$"
      ],
      "text/plain": [
       "sin(2*x + 1)"
      ]
     },
     "execution_count": 197,
     "metadata": {},
     "output_type": "execute_result"
    }
   ],
   "source": [
    "sym.sin(2*x + 1)"
   ]
  },
  {
   "cell_type": "code",
   "execution_count": 198,
   "metadata": {},
   "outputs": [
    {
     "data": {
      "text/latex": [
       "$\\displaystyle \\sin{\\left(2 x + 1 \\right)}$"
      ],
      "text/plain": [
       "sin(2*x + 1)"
      ]
     },
     "execution_count": 198,
     "metadata": {},
     "output_type": "execute_result"
    }
   ],
   "source": [
    "#вложим функцию в перемнную для удобства\n",
    "f = sym.sin(2*x + 1)\n",
    "f"
   ]
  },
  {
   "cell_type": "code",
   "execution_count": 199,
   "metadata": {},
   "outputs": [
    {
     "data": {
      "text/latex": [
       "$\\displaystyle 2 \\cos{\\left(2 x + 1 \\right)}$"
      ],
      "text/plain": [
       "2*cos(2*x + 1)"
      ]
     },
     "execution_count": 199,
     "metadata": {},
     "output_type": "execute_result"
    }
   ],
   "source": [
    "#Первая производная\n",
    "dif1 = sym.diff(f, x, 1)\n",
    "dif1"
   ]
  },
  {
   "cell_type": "code",
   "execution_count": 200,
   "metadata": {},
   "outputs": [
    {
     "data": {
      "text/latex": [
       "$\\displaystyle - 4 \\sin{\\left(2 x + 1 \\right)}$"
      ],
      "text/plain": [
       "-4*sin(2*x + 1)"
      ]
     },
     "execution_count": 200,
     "metadata": {},
     "output_type": "execute_result"
    }
   ],
   "source": [
    "#Вторая производная\n",
    "dif2 = sym.diff(f, x, 2)\n",
    "dif2"
   ]
  },
  {
   "cell_type": "markdown",
   "metadata": {},
   "source": [
    "#### Построим графики"
   ]
  },
  {
   "cell_type": "code",
   "execution_count": 201,
   "metadata": {},
   "outputs": [
    {
     "data": {
      "text/plain": [
       "array([-5, -4, -3, -2, -1,  0,  1,  2,  3,  4,  5])"
      ]
     },
     "execution_count": 201,
     "metadata": {},
     "output_type": "execute_result"
    }
   ],
   "source": [
    "#значения x\n",
    "rng = np.arange(-5,6,1)\n",
    "rng"
   ]
  },
  {
   "cell_type": "code",
   "execution_count": 202,
   "metadata": {},
   "outputs": [
    {
     "data": {
      "text/plain": [
       "array([-0.41211849, -0.6569866 ,  0.95892427, -0.14112001, -0.84147098,\n",
       "        0.84147098,  0.14112001, -0.95892427,  0.6569866 ,  0.41211849,\n",
       "       -0.99999021])"
      ]
     },
     "execution_count": 202,
     "metadata": {},
     "output_type": "execute_result"
    }
   ],
   "source": [
    "# значения y\n",
    "fx = np.sin(2*rng + 1)\n",
    "fx"
   ]
  },
  {
   "cell_type": "code",
   "execution_count": 203,
   "metadata": {},
   "outputs": [
    {
     "data": {
      "text/plain": [
       "array([-1.82226052,  1.50780451,  0.56732437, -1.97998499,  1.08060461,\n",
       "        1.08060461, -1.97998499,  0.56732437,  1.50780451, -1.82226052,\n",
       "        0.0088514 ])"
      ]
     },
     "execution_count": 203,
     "metadata": {},
     "output_type": "execute_result"
    }
   ],
   "source": [
    "#значения первой производной\n",
    "dif1_x = 2 * np.cos(2*rng + 1)\n",
    "dif1_x"
   ]
  },
  {
   "cell_type": "code",
   "execution_count": 204,
   "metadata": {},
   "outputs": [
    {
     "data": {
      "text/plain": [
       "array([ 1.64847394,  2.62794639, -3.8356971 ,  0.56448003,  3.36588394,\n",
       "       -3.36588394, -0.56448003,  3.8356971 , -2.62794639, -1.64847394,\n",
       "        3.99996083])"
      ]
     },
     "execution_count": 204,
     "metadata": {},
     "output_type": "execute_result"
    }
   ],
   "source": [
    "#значения второй производной\n",
    "dif2_x = -4  * np.sin(2*rng + 1)\n",
    "dif2_x"
   ]
  },
  {
   "cell_type": "code",
   "execution_count": 205,
   "metadata": {},
   "outputs": [
    {
     "data": {
      "image/png": "[encoded data removed]",
      "text/plain": [
       "<Figure size 432x288 with 1 Axes>"
      ]
     },
     "metadata": {
      "needs_background": "light"
     },
     "output_type": "display_data"
    }
   ],
   "source": [
    "plt.plot(rng, fx, c = 'r', lw = 3, label='график функции')\n",
    "plt.plot(rng, dif1_x, lw=1, ls = '--', label = '1-я производная')\n",
    "plt.plot(rng, dif2_x, lw=1, ls = '--', label = '2-я производная')\n",
    "plt.legend()\n",
    "plt.show()"
   ]
  }
 ],
 "metadata": {
  "colab": {
   "collapsed_sections": [],
   "name": "netology_clas_clust.ipynb",
   "provenance": []
  },
  "kernelspec": {
   "display_name": "Python 3",
   "language": "python",
   "name": "python3"
  },
  "language_info": {
   "codemirror_mode": {
    "name": "ipython",
    "version": 3
   },
   "file_extension": ".py",
   "mimetype": "text/x-python",
   "name": "python",
   "nbconvert_exporter": "python",
   "pygments_lexer": "ipython3",
   "version": "3.7.3"
  }
 },
 "nbformat": 4,
 "nbformat_minor": 1
}
