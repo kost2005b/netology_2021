{
 "cells": [
  {
   "cell_type": "markdown",
   "metadata": {},
   "source": [
    "## Задание 1\n",
    "\n",
    "Дана переменная, в которой хранится слово из латинских букв. Напишите код, который выводит на экран:\n",
    "\n",
    "+ среднюю букву, если число букв в слове нечетное;\n",
    "+ две средних буквы, если число букв четное."
   ]
  },
  {
   "cell_type": "code",
   "execution_count": 1,
   "metadata": {},
   "outputs": [
    {
     "name": "stdout",
     "output_type": "stream",
     "text": [
      "t h\n"
     ]
    }
   ],
   "source": [
    "word = 'python'\n",
    "\n",
    "half = len(word) / 2\n",
    "\n",
    "if len(word) % 2 == 0:\n",
    "    n = int(half) - 1\n",
    "    print(word[n], word[n+1])\n",
    "    \n",
    "else:\n",
    "    n = int(half+ 0.5) - 1\n",
    "    print(word[n])"
   ]
  },
  {
   "cell_type": "markdown",
   "metadata": {},
   "source": [
    "## Задание 2\n",
    "\n",
    "Напишите программу, которая последовательно запрашивает у пользователя числа (по одному за раз) и после первого нуля выводит сумму всех ранее введенных чисел."
   ]
  },
  {
   "cell_type": "code",
   "execution_count": 2,
   "metadata": {},
   "outputs": [
    {
     "name": "stdout",
     "output_type": "stream",
     "text": [
      "введите число7\n",
      "введите число3\n",
      "введите число2\n",
      "введите число0\n"
     ]
    },
    {
     "data": {
      "text/plain": [
       "12"
      ]
     },
     "execution_count": 2,
     "metadata": {},
     "output_type": "execute_result"
    }
   ],
   "source": [
    "list_sample  = []\n",
    "n = 1\n",
    "\n",
    "while int(n) != 0:\n",
    "    n = input('введите число')\n",
    "    list_sample.append(int(n))\n",
    "\n",
    "sum(list_sample)"
   ]
  },
  {
   "cell_type": "markdown",
   "metadata": {},
   "source": [
    "## Задание 3\n",
    "\n",
    "Мы делаем MVP dating-сервиса, и у нас есть список парней и девушек.\n",
    "Выдвигаем гипотезу: лучшие рекомендации мы получим, если просто отсортируем имена по алфавиту и познакомим людей с одинаковыми индексами после сортировки! Но мы не будем никого знакомить, если кто-то может остаться без пары:\n",
    "\n",
    "Примеры работы программы:\n",
    "\n",
    "boys = [‘Peter’, ‘Alex’, ‘John’, ‘Arthur’, ‘Richard’]\n",
    "girls = [‘Kate’, ‘Liza’, ‘Kira’, ‘Emma’, ‘Trisha’]\n",
    "\n",
    "boys = [‘Peter’, ‘Alex’, ‘John’, ‘Arthur’, ‘Richard’, ‘Michael’]\n",
    "girls = [‘Kate’, ‘Liza’, ‘Kira’, ‘Emma’, ‘Trisha’]"
   ]
  },
  {
   "cell_type": "code",
   "execution_count": 41,
   "metadata": {},
   "outputs": [],
   "source": [
    "boys = ['Peter', 'Alex', 'John', 'Arthur', 'Richard'] \n",
    "girls = ['Kate', 'Liza', 'Kira', 'Emma', 'Trisha']"
   ]
  },
  {
   "cell_type": "code",
   "execution_count": 43,
   "metadata": {},
   "outputs": [
    {
     "name": "stdout",
     "output_type": "stream",
     "text": [
      "идеальная пара Alex и Emma !\n",
      "идеальная пара Arthur и Kate !\n",
      "идеальная пара John и Kira !\n",
      "идеальная пара Peter и Liza !\n",
      "идеальная пара Richard и Trisha !\n"
     ]
    }
   ],
   "source": [
    "if len(boys) == len(girls):\n",
    "    \n",
    "    pairs = list(zip(sorted(boys), sorted(girls)))\n",
    "    for boy, girl in pairs:\n",
    "        print('идеальная пара', boy, 'и', girl, '!')\n",
    "\n",
    "else:\n",
    "    print('подбор пар невозможен')"
   ]
  },
  {
   "cell_type": "markdown",
   "metadata": {},
   "source": [
    "## Задание 4\n",
    "У нас есть список, содержащий информацию о среднедневной температуре в Фаренгейтах за произвольный период по странам (структура данных в примере). Необходимо написать код, который рассчитает среднюю температуру за период в Цельсиях(!) для каждой страны.\n",
    "\n",
    "Пример работы программы:\n",
    "\n",
    "countries_temperature = [\n",
    "[‘Thailand’, [75.2, 77, 78.8, 73.4, 68, 75.2, 77]],\n",
    "[‘Germany’, [57.2, 55.4, 59, 59, 53.6]],\n",
    "[‘Russia’, [35.6, 37.4, 39.2, 41, 42.8, 39.2, 35.6]],\n",
    "[‘Poland’, [50, 50, 53.6, 57.2, 55.4, 55.4]]\n",
    "]"
   ]
  },
  {
   "cell_type": "code",
   "execution_count": 51,
   "metadata": {},
   "outputs": [],
   "source": [
    "countries_temperature = [ ['Thailand', [75.2, 77, 78.8, 73.4, 68, 75.2, 77]], \n",
    "                         ['Germany', [57.2, 55.4, 59, 59, 53.6]], \n",
    "                         ['Russia', [35.6, 37.4, 39.2, 41, 42.8, 39.2, 35.6]], \n",
    "                         ['Poland', [50, 50, 53.6, 57.2, 55.4, 55.4]] ]"
   ]
  },
  {
   "cell_type": "code",
   "execution_count": 54,
   "metadata": {},
   "outputs": [
    {
     "name": "stdout",
     "output_type": "stream",
     "text": [
      "среднегодовая температура в Thailand 23.6 градусов С\n",
      "среднегодовая температура в Germany 13.7 градусов С\n",
      "среднегодовая температура в Russia 3.7 градусов С\n",
      "среднегодовая температура в Poland 11.9 градусов С\n"
     ]
    }
   ],
   "source": [
    "for country, temp in countries_temperature:\n",
    "    \n",
    "    temp_c = round( (sum(temp)/len(temp) - 32)/2 + 0.1 * (sum(temp)/len(temp) - 32)/2 , 1)\n",
    "    print('среднегодовая температура в', country, temp_c, 'градусов С')"
   ]
  },
  {
   "cell_type": "markdown",
   "metadata": {},
   "source": [
    "## Задание 5 (необязательное)\n",
    "Дан поток логов по количеству просмотренных страниц для каждого пользователя. Вам необходимо написать алгоритм, который считает среднее значение просмотров на пользователя. Т. е. надо посчитать отношение суммы всех просмотров к количеству уникальных пользователей.\n",
    "\n",
    "Примеры работы программы:\n",
    "\n",
    "stream = [\n",
    "‘2018-01-01,user1,3’,\n",
    "‘2018-01-07,user1,4’,\n",
    "‘2018-03-29,user1,1’,\n",
    "‘2018-04-04,user1,13’,\n",
    "‘2018-01-05,user2,7’,\n",
    "‘2018-06-14,user3,4’,\n",
    "‘2018-07-02,user3,10’,\n",
    "‘2018-03-21,user4,19’,\n",
    "‘2018-03-22,user4,4’,\n",
    "‘2018-04-22,user4,8’,\n",
    "‘2018-05-03,user4,9’,\n",
    "‘2018-05-11,user4,11’,\n",
    "]"
   ]
  },
  {
   "cell_type": "code",
   "execution_count": 73,
   "metadata": {},
   "outputs": [],
   "source": [
    "stream = [ '2018-01-01,user1,3', \n",
    "          '2018-01-07,user1,4', \n",
    "          '2018-03-29,user1,1', \n",
    "          '2018-04-04,user1,13', \n",
    "          '2018-01-05,user2,7', \n",
    "          '2018-06-14,user3,4', \n",
    "          '2018-07-02,user3,10', \n",
    "          '2018-03-21,user4,19', \n",
    "          '2018-03-22,user4,4', \n",
    "          '2018-04-22,user4,8', \n",
    "          '2018-05-03,user4,9', \n",
    "          '2018-05-11,user4,11', ]"
   ]
  },
  {
   "cell_type": "code",
   "execution_count": 74,
   "metadata": {},
   "outputs": [
    {
     "name": "stdout",
     "output_type": "stream",
     "text": [
      "среднее число просмотров на одного пользователя равно 23.25\n"
     ]
    }
   ],
   "source": [
    "user_list = []\n",
    "log_list = []\n",
    "counter = 0\n",
    "\n",
    "for log in stream:\n",
    "    log_list.append(log.split(','))\n",
    "\n",
    "for date, user, views in log_list:\n",
    "        user_list.append(user)\n",
    "        counter += int(views)\n",
    "\n",
    "unique_users = len(set(user_list))\n",
    "average_views = counter / unique_users\n",
    "\n",
    "print('среднее число просмотров на одного пользователя равно', average_views)"
   ]
  },
  {
   "cell_type": "markdown",
   "metadata": {},
   "source": [
    "## Задание 6 (необязательное)\n",
    "Необходимо у пользователя запрашивать набор чисел разделенных пробелом. В результате должны выводиться числа, которые повторяются в вводе более одного раза."
   ]
  },
  {
   "cell_type": "code",
   "execution_count": null,
   "metadata": {},
   "outputs": [],
   "source": [
    "n = input('введите набор чисел разделенных пробелом')\n",
    "list_n = n.split(' ')\n",
    "unique = set(list_n)\n",
    "\n",
    "print('повторяющиеся числа:')\n",
    "for "
   ]
  }
 ],
 "metadata": {
  "kernelspec": {
   "display_name": "Python 3",
   "language": "python",
   "name": "python3"
  },
  "language_info": {
   "codemirror_mode": {
    "name": "ipython",
    "version": 3
   },
   "file_extension": ".py",
   "mimetype": "text/x-python",
   "name": "python",
   "nbconvert_exporter": "python",
   "pygments_lexer": "ipython3",
   "version": "3.7.3"
  }
 },
 "nbformat": 4,
 "nbformat_minor": 2
}
