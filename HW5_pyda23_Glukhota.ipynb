{
 "cells": [
  {
   "cell_type": "markdown",
   "metadata": {},
   "source": [
    "## Задание 1\n",
    "\n",
    "Переведите содержимое файла purchase_log.txt в словарь purchases вида:\n",
    "{‘1840e0b9d4’: ‘Продукты’, …}"
   ]
  },
  {
   "cell_type": "code",
   "execution_count": 75,
   "metadata": {},
   "outputs": [],
   "source": [
    "purchases = {}"
   ]
  },
  {
   "cell_type": "code",
   "execution_count": 76,
   "metadata": {},
   "outputs": [],
   "source": [
    "import json"
   ]
  },
  {
   "cell_type": "code",
   "execution_count": 77,
   "metadata": {},
   "outputs": [],
   "source": [
    "i = 0\n",
    "\n",
    "with open('purchase_log.txt') as f:\n",
    "    \n",
    "    for line in f:\n",
    "        \n",
    "        line = line.strip()\n",
    "        \n",
    "        dict_ = json.loads(line)\n",
    "        list_ = list(dict_.values())\n",
    "        \n",
    "        purchases.setdefault(list_[0])\n",
    "        purchases[list_[0]] = list_[1]\n",
    "        \n",
    "        i += 1"
   ]
  },
  {
   "cell_type": "code",
   "execution_count": 78,
   "metadata": {},
   "outputs": [
    {
     "data": {
      "text/plain": [
       "100000"
      ]
     },
     "execution_count": 78,
     "metadata": {},
     "output_type": "execute_result"
    }
   ],
   "source": [
    "i"
   ]
  },
  {
   "cell_type": "code",
   "execution_count": 79,
   "metadata": {
    "scrolled": true
   },
   "outputs": [
    {
     "data": {
      "text/plain": [
       "99518"
      ]
     },
     "execution_count": 79,
     "metadata": {},
     "output_type": "execute_result"
    }
   ],
   "source": [
    "len(purchases)"
   ]
  },
  {
   "cell_type": "code",
   "execution_count": 80,
   "metadata": {},
   "outputs": [],
   "source": [
    "f.close()"
   ]
  },
  {
   "cell_type": "markdown",
   "metadata": {},
   "source": [
    "Что-то потерялось. Вероятно, какая то проблема с форматирование отдельных строк или есть повторяющиеся id в файле.  Попробуем поправить - вносить значения в словаре в списки"
   ]
  },
  {
   "cell_type": "code",
   "execution_count": 55,
   "metadata": {},
   "outputs": [],
   "source": [
    "purchases = {}"
   ]
  },
  {
   "cell_type": "code",
   "execution_count": 56,
   "metadata": {},
   "outputs": [],
   "source": [
    "i = 0\n",
    "\n",
    "with open('purchase_log.txt') as f:\n",
    "    \n",
    "    for line in f:\n",
    "        \n",
    "        line = line.strip()\n",
    "        \n",
    "        dict_ = json.loads(line)\n",
    "        list_ = list(dict_.values())\n",
    "        \n",
    "        purchases.setdefault(list_[0])\n",
    "        \n",
    "        if purchases[list_[0]] == None:\n",
    "            purchases[list_[0]] = [list_[1]]\n",
    "            \n",
    "        else:\n",
    "            purchases[list_[0]] = purchases[list_[0]].append(list_[1])\n",
    "        \n",
    "        i += 1"
   ]
  },
  {
   "cell_type": "markdown",
   "metadata": {},
   "source": [
    "проверим, что получилось"
   ]
  },
  {
   "cell_type": "code",
   "execution_count": 68,
   "metadata": {},
   "outputs": [],
   "source": [
    "values_list = []\n",
    "\n",
    "for value in purchases.values():\n",
    "    if value == None:\n",
    "        value = ['None']\n",
    "        for i in value:\n",
    "            values_list.append(i)\n",
    "    else:\n",
    "        for i in value:\n",
    "            values_list.append(i)"
   ]
  },
  {
   "cell_type": "code",
   "execution_count": 69,
   "metadata": {},
   "outputs": [
    {
     "data": {
      "text/plain": [
       "99518"
      ]
     },
     "execution_count": 69,
     "metadata": {},
     "output_type": "execute_result"
    }
   ],
   "source": [
    "len(values_list)"
   ]
  },
  {
   "cell_type": "code",
   "execution_count": 70,
   "metadata": {},
   "outputs": [],
   "source": [
    "f.close()"
   ]
  },
  {
   "cell_type": "markdown",
   "metadata": {},
   "source": [
    "Не помогло. Или проблема в форматировании или как-то иначе нужно работать с дублями"
   ]
  },
  {
   "cell_type": "markdown",
   "metadata": {},
   "source": [
    "## Задание 2\n",
    "\n",
    "\n",
    "Для каждого user_id в файле visit_log.csv определите третий столбец с категорией покупки (если покупка была, сам файл visit_log.csv изменять не надо). Запишите в файл funnel.csv визиты из файла visit_log.csv, в которых были покупки с указанием категории.\n",
    "Учтите условия на данные:\n",
    "содержимое purchase_log.txt помещается в оперативную память компьютера\n",
    "содержимое visit_log.csv - нет; используйте только построчную обработку этого файла"
   ]
  },
  {
   "cell_type": "code",
   "execution_count": 71,
   "metadata": {},
   "outputs": [],
   "source": [
    "p = open('purchase_log.txt')\n",
    "\n",
    "p_list = p.readlines()\n",
    "\n",
    "p.close()"
   ]
  },
  {
   "cell_type": "code",
   "execution_count": 72,
   "metadata": {},
   "outputs": [],
   "source": [
    "import csv"
   ]
  },
  {
   "cell_type": "markdown",
   "metadata": {},
   "source": [
    "для целей оптимизации воспользуемся словарем purchases, созданным в первом задании"
   ]
  },
  {
   "cell_type": "code",
   "execution_count": 89,
   "metadata": {},
   "outputs": [],
   "source": [
    "with open('visit_log.csv', 'r') as f:\n",
    "    \n",
    "    with open('funnel.csv', 'w') as f2write:\n",
    "        \n",
    "        f_writer = csv.writer(f2write, delimiter = \",\", lineterminator=\"\\r\")\n",
    "        \n",
    "        for line in f:\n",
    "            line_l = line.strip().split(',')\n",
    "            \n",
    "            p_category = purchases.get(line_l[0])\n",
    "\n",
    "            if p_category:\n",
    "                f_writer.writerow([line_l[0], line_l[1], p_category])\n",
    "                i += 1\n",
    "                \n",
    "            p_category = None"
   ]
  },
  {
   "cell_type": "markdown",
   "metadata": {},
   "source": [
    "потому чтоесли использовать весь файл purchase_log.txt - реализация получается очень долгой"
   ]
  },
  {
   "cell_type": "code",
   "execution_count": 48,
   "metadata": {},
   "outputs": [],
   "source": [
    "i = 0\n",
    "\n",
    "with open('visit_log.csv', 'r') as f:\n",
    "    \n",
    "    with open('funnel.csv', 'w') as f2write:\n",
    "        \n",
    "        f_writer = csv.writer(f2write, delimiter = \",\", lineterminator=\"\\r\")\n",
    "        \n",
    "        for line in f:\n",
    "            line_l = line.strip().split(',')\n",
    "\n",
    "            for log in p_list:\n",
    "                dict_ = json.loads(log.strip())\n",
    "                if line_l[0] == dict_['user_id']:\n",
    "                    p_category = dict_['category']\n",
    "\n",
    "            if p_category:\n",
    "                f_writer.writerow([line_l[0], line_l[1], p_category])\n",
    "                i += 1\n",
    "                \n",
    "            p_category = None\n",
    "            \n",
    "            if i>5:\n",
    "                break"
   ]
  }
 ],
 "metadata": {
  "kernelspec": {
   "display_name": "Python 3",
   "language": "python",
   "name": "python3"
  },
  "language_info": {
   "codemirror_mode": {
    "name": "ipython",
    "version": 3
   },
   "file_extension": ".py",
   "mimetype": "text/x-python",
   "name": "python",
   "nbconvert_exporter": "python",
   "pygments_lexer": "ipython3",
   "version": "3.7.3"
  }
 },
 "nbformat": 4,
 "nbformat_minor": 2
}
