{
 "cells": [
  {
   "cell_type": "markdown",
   "metadata": {},
   "source": [
    "# Итоговая работа"
   ]
  },
  {
   "cell_type": "code",
   "execution_count": 686,
   "metadata": {},
   "outputs": [],
   "source": [
    "import matplotlib.pyplot as plt\n",
    "import numpy as np\n",
    "import sympy as sym\n",
    "\n",
    "from mpl_toolkits.mplot3d  import Axes3D\n",
    "from matplotlib import cm\n",
    "from matplotlib.ticker import LinearLocator, FormatStrFormatter\n",
    "\n",
    "from scipy.optimize import minimize\n",
    "%matplotlib inline"
   ]
  },
  {
   "cell_type": "markdown",
   "metadata": {},
   "source": [
    "## Задание 1\n",
    "Дана матрица рейтингов фильмов (строки - пользователи (10 человек), столбцы - фильмы (15 фильмов))"
   ]
  },
  {
   "cell_type": "code",
   "execution_count": 687,
   "metadata": {},
   "outputs": [],
   "source": [
    "raitings = np.array([[ 4,  4,  9,  4,  1,  6, 10,  7,  9,  6,  9,  2,  8,  6,  6],\n",
    "                     [ 9,  2,  5, 10,  7,  8, 10,  5,  6,  2,  1,  6,  8,  9,  7],\n",
    "                     [ 1,  6,  8,  8,  4,  9,  3,  8, 10,  5,  2,  6,  8,  1,  6],\n",
    "                     [ 6,  1,  9,  7,  7,  9,  2,  3,  5,  1,  6,  6,  3,  2,  7],\n",
    "                     [ 3,  7,  3,  5,  7,  9,  9,  6,  2,  9,  1,  2,  8, 10,  6],\n",
    "                     [ 8,  3,  7,  3,  8,  6,  1,  8,  8,  6,  1,  9,  4, 10,  1],\n",
    "                     [ 9,  8,  4,  8,  8, 10,  6,  1,  1,  2,  9,  5,  2,  7,  2],\n",
    "                     [ 4,  1,  6,  4,  3, 10,  4,  4,  2,  8,  7,  9,  3,  8,  3],\n",
    "                     [ 2,  7,  7,  6, 10,  6,  8,  9,  8,  6, 10,  1,  7, 10,  4],\n",
    "                     [ 5, 10,  8,  8,  9,  7,  2,  9,  9, 10,  8,  8,  8,  6, 10]])"
   ]
  },
  {
   "cell_type": "markdown",
   "metadata": {},
   "source": [
    "#### a) Необходимо найти наиболее похожего пользователя по косинусной метрике для каждого из (ответ: 10 пар вида (x, y), где y - наиболее похожий пользователь на пользователя x)."
   ]
  },
  {
   "cell_type": "code",
   "execution_count": 688,
   "metadata": {},
   "outputs": [],
   "source": [
    "#Заведем функцию расчета косинуса угла между векторами -  скалярное произведение делить на произведение евклидовых норм\n",
    "\n",
    "def cosine(a, b):\n",
    "\n",
    "    length_a = np.linalg.norm(a)\n",
    "    lenght_b = np.linalg.norm(b)\n",
    "    \n",
    "    return np.dot(a, b) / (length_a * lenght_b)"
   ]
  },
  {
   "cell_type": "code",
   "execution_count": 689,
   "metadata": {},
   "outputs": [
    {
     "name": "stdout",
     "output_type": "stream",
     "text": [
      "для user  1 , ближайший аналог - user  9\n",
      "для user  2 , ближайший аналог - user  5\n",
      "для user  3 , ближайший аналог - user  10\n",
      "для user  4 , ближайший аналог - user  10\n",
      "для user  5 , ближайший аналог - user  9\n",
      "для user  6 , ближайший аналог - user  10\n",
      "для user  7 , ближайший аналог - user  4\n",
      "для user  8 , ближайший аналог - user  6\n",
      "для user  9 , ближайший аналог - user  1\n",
      "для user  10 , ближайший аналог - user  3\n"
     ]
    }
   ],
   "source": [
    "# Прогоним ее через цикл, где попарно сравним всех пользователей. Критерий - наибольший косинус (наименьший угол)\n",
    "\n",
    "for i, user in enumerate(list(raitings)):\n",
    "    \n",
    "    m = -1\n",
    "    \n",
    "    for i_, user_ in enumerate(list(raitings)):\n",
    "\n",
    "        if i != i_ and cosine(user, user_) > m:\n",
    "                               \n",
    "            m = cosine(user, user_)\n",
    "            best_n = i_ + 1\n",
    "            \n",
    "    print('для user ', i + 1, ', ближайший аналог - user ', best_n)"
   ]
  },
  {
   "cell_type": "markdown",
   "metadata": {},
   "source": [
    "#### b) Предположим, вы захотели сжать признаковые описания пользователя с 15 фильмов, до, скажем, 5-ти признаков, как вы это сделаете?"
   ]
  },
  {
   "cell_type": "markdown",
   "metadata": {},
   "source": [
    "Для этих целей можно использовать сингулярное разложение (SVD), которое в усеченном виде реализовано, например в методе главных компонента (PCA).\n",
    "\n",
    "Строится симметричная матрица скалярных произведений всех векторов матрицы. Для этой матрицы находится вектор собственных значений. Результаты  нормализуются (приводятся к единице и получившиеся доли показывают оценочно, какой процент зависимостей объясняют значения того или иного вектора. Можно выбрать лучшие 5.\n",
    "\n",
    "Но нужно обращать внимание на потерю данных, которая произойдет после выбора. На практике желательно, чтобы потеря не превышала 15-20% объяснения зависимостей\n",
    "\n",
    "\n",
    "Есть аналогичные методы, например на  базе ковариационных матриц и диспернсий. работают по тому же принипу."
   ]
  },
  {
   "cell_type": "markdown",
   "metadata": {},
   "source": [
    "## Задание 2\n",
    "\n",
    "Вычислите производную \n",
    "$tg2(sin(x)+cos(2x+3))$\n",
    " в точке \n",
    "$x_0=1$\n",
    " (на python и на бумаге)."
   ]
  },
  {
   "cell_type": "markdown",
   "metadata": {},
   "source": [
    "Вручную"
   ]
  },
  {
   "cell_type": "code",
   "execution_count": 690,
   "metadata": {},
   "outputs": [],
   "source": [
    "#Зададим x как символ\n",
    "x = sym.Symbol('x')"
   ]
  },
  {
   "cell_type": "code",
   "execution_count": 691,
   "metadata": {},
   "outputs": [
    {
     "data": {
      "text/latex": [
       "$\\displaystyle \\tan^{2}{\\left(\\sin{\\left(x \\right)} + \\cos{\\left(2 x + 3 \\right)} \\right)}$"
      ],
      "text/plain": [
       "tan(sin(x) + cos(2*x + 3))**2"
      ]
     },
     "execution_count": 691,
     "metadata": {},
     "output_type": "execute_result"
    }
   ],
   "source": [
    "#вложим функцию в перемнную\n",
    "fx = sym.tan(sym.sin(x) + sym.cos(2 * x + 3))**2\n",
    "fx"
   ]
  },
  {
   "cell_type": "code",
   "execution_count": 692,
   "metadata": {},
   "outputs": [
    {
     "data": {
      "text/latex": [
       "$\\displaystyle 2 \\left(- 2 \\sin{\\left(2 x + 3 \\right)} + \\cos{\\left(x \\right)}\\right) \\left(\\tan^{2}{\\left(\\sin{\\left(x \\right)} + \\cos{\\left(2 x + 3 \\right)} \\right)} + 1\\right) \\tan{\\left(\\sin{\\left(x \\right)} + \\cos{\\left(2 x + 3 \\right)} \\right)}$"
      ],
      "text/plain": [
       "2*(-2*sin(2*x + 3) + cos(x))*(tan(sin(x) + cos(2*x + 3))**2 + 1)*tan(sin(x) + cos(2*x + 3))"
      ]
     },
     "execution_count": 692,
     "metadata": {},
     "output_type": "execute_result"
    }
   ],
   "source": [
    "#Находим первую производную\n",
    "dif = sym.diff(fx, x, 1)\n",
    "dif"
   ]
  },
  {
   "cell_type": "code",
   "execution_count": 693,
   "metadata": {},
   "outputs": [
    {
     "data": {
      "text/latex": [
       "$\\displaystyle 2 \\left(1 + \\tan^{2}{\\left(\\cos{\\left(5 \\right)} + \\sin{\\left(1 \\right)} \\right)}\\right) \\left(\\cos{\\left(1 \\right)} - 2 \\sin{\\left(5 \\right)}\\right) \\tan{\\left(\\cos{\\left(5 \\right)} + \\sin{\\left(1 \\right)} \\right)}$"
      ],
      "text/plain": [
       "2*(1 + tan(cos(5) + sin(1))**2)*(cos(1) - 2*sin(5))*tan(cos(5) + sin(1))"
      ]
     },
     "execution_count": 693,
     "metadata": {},
     "output_type": "execute_result"
    }
   ],
   "source": [
    "#вычисляем производную в точке x=1\n",
    "dif.subs(x, 1)"
   ]
  },
  {
   "cell_type": "code",
   "execution_count": 694,
   "metadata": {},
   "outputs": [
    {
     "data": {
      "text/plain": [
       "55.385917635337954"
      ]
     },
     "execution_count": 694,
     "metadata": {},
     "output_type": "execute_result"
    }
   ],
   "source": [
    "#Посчитаем числом\n",
    "2 * (1 + np.tan(np.cos(5) + np.sin(1))**2 )*(np.cos(1) - 2*np.sin(5))*np.tan(np.cos(5) + np.sin(1))"
   ]
  },
  {
   "cell_type": "markdown",
   "metadata": {},
   "source": [
    "Читерский  метод"
   ]
  },
  {
   "cell_type": "code",
   "execution_count": 695,
   "metadata": {},
   "outputs": [],
   "source": [
    "#Экспортируем\n",
    "from scipy.misc import derivative"
   ]
  },
  {
   "cell_type": "code",
   "execution_count": 696,
   "metadata": {},
   "outputs": [
    {
     "data": {
      "text/plain": [
       "55.3859176464222"
      ]
     },
     "execution_count": 696,
     "metadata": {},
     "output_type": "execute_result"
    }
   ],
   "source": [
    "#Решаем \n",
    "def f(x):\n",
    "    return np.tan(np.sin(x) + np.cos(2 * x + 3))**2\n",
    "    \n",
    "derivative(f, 1.0, dx=1e-6)"
   ]
  },
  {
   "cell_type": "markdown",
   "metadata": {},
   "source": [
    "## Задание 3\n",
    "Дана функция с неизвестными параметрами a и b, вам также известны значения функции fx в точках x. Найдите оптимальные параметры a, b, минимизирующие абсолютную ошибку <b>error</b>."
   ]
  },
  {
   "cell_type": "code",
   "execution_count": 697,
   "metadata": {},
   "outputs": [],
   "source": [
    "def f(x, a, b):\n",
    "    return np.e**a * np.sin(b*x) + x"
   ]
  },
  {
   "cell_type": "code",
   "execution_count": 698,
   "metadata": {},
   "outputs": [],
   "source": [
    "x = np.array([0.        , 0.26315789, 0.52631579, 0.78947368, 1.05263158,\n",
    "              1.31578947, 1.57894737, 1.84210526, 2.10526316, 2.36842105,\n",
    "              2.63157895, 2.89473684, 3.15789474, 3.42105263, 3.68421053,\n",
    "              3.94736842, 4.21052632, 4.47368421, 4.73684211, 5.        ])"
   ]
  },
  {
   "cell_type": "code",
   "execution_count": 699,
   "metadata": {},
   "outputs": [],
   "source": [
    "fx = np.array([  0.        , -12.01819092, -18.90968634, -17.68786571,\n",
    "                -8.7529108 ,   4.27524517,  16.06801336,  21.81250213,\n",
    "                19.22059845,   9.48411207,  -3.22273056, -13.48576488,\n",
    "               -16.91096359, -11.95866834,  -0.58630088,  12.56873816,\n",
    "                22.12489421,  24.20292139,  18.04522521,   6.33211092])"
   ]
  },
  {
   "cell_type": "code",
   "execution_count": 700,
   "metadata": {},
   "outputs": [
    {
     "data": {
      "image/png": "[encoded data removed]",
      "text/plain": [
       "<Figure size 432x288 with 1 Axes>"
      ]
     },
     "metadata": {
      "needs_background": "light"
     },
     "output_type": "display_data"
    }
   ],
   "source": [
    "plt.plot(x, fx)\n",
    "plt.show()"
   ]
  },
  {
   "cell_type": "code",
   "execution_count": 701,
   "metadata": {},
   "outputs": [],
   "source": [
    "def error(params):\n",
    "    return np.sum(np.abs(fx - f(x, params[0], params[1])))"
   ]
  },
  {
   "cell_type": "markdown",
   "metadata": {},
   "source": [
    "Решение"
   ]
  },
  {
   "cell_type": "code",
   "execution_count": 702,
   "metadata": {},
   "outputs": [
    {
     "name": "stdout",
     "output_type": "stream",
     "text": [
      "Optimization terminated successfully.\n",
      "         Current function value: 237.955663\n",
      "         Iterations: 111\n",
      "         Function evaluations: 220\n"
     ]
    }
   ],
   "source": [
    "#Запускаем оптимизацию, указываем начальную точку, метод и условия успеха\n",
    "params = np.random.uniform(low=-5, high=5, size=(2,))\n",
    "res = minimize(error, params, method='nelder-mead', options = {'xtol': 1e-10, 'disp' : True} )"
   ]
  },
  {
   "cell_type": "code",
   "execution_count": 703,
   "metadata": {},
   "outputs": [
    {
     "data": {
      "text/plain": [
       " final_simplex: (array([[1.96273074, 3.32848357],\n",
       "       [1.96273074, 3.32848357],\n",
       "       [1.96273074, 3.32848357]]), array([237.95566303, 237.95566303, 237.95566303]))\n",
       "           fun: 237.9556630281679\n",
       "       message: 'Optimization terminated successfully.'\n",
       "          nfev: 220\n",
       "           nit: 111\n",
       "        status: 0\n",
       "       success: True\n",
       "             x: array([1.96273074, 3.32848357])"
      ]
     },
     "execution_count": 703,
     "metadata": {},
     "output_type": "execute_result"
    }
   ],
   "source": [
    "#Окно результатов\n",
    "res"
   ]
  },
  {
   "cell_type": "code",
   "execution_count": 704,
   "metadata": {},
   "outputs": [
    {
     "data": {
      "text/plain": [
       "array([1.96273074, 3.32848357])"
      ]
     },
     "execution_count": 704,
     "metadata": {},
     "output_type": "execute_result"
    }
   ],
   "source": [
    "#Лучшие параметры\n",
    "res.x"
   ]
  },
  {
   "cell_type": "code",
   "execution_count": 705,
   "metadata": {},
   "outputs": [
    {
     "data": {
      "text/plain": [
       "228.35671970309423"
      ]
     },
     "execution_count": 705,
     "metadata": {},
     "output_type": "execute_result"
    }
   ],
   "source": [
    "#Результат функции ошибки при параметрах из комментария a = 1.95....., b = 1.56....... - не 0\n",
    "error([1.95282587, 1.56625207])"
   ]
  },
  {
   "cell_type": "markdown",
   "metadata": {},
   "source": [
    "#### Сделаем несколько итераций и найдем решение аналитически"
   ]
  },
  {
   "cell_type": "markdown",
   "metadata": {},
   "source": [
    "Здесь я с помощью кода делаю так, что в список итоговых значений параметров  и резльтатов попадали только лучшие, каждая итерация сравнивается с предыдущими, исходная точка - значение error 0.01. \n",
    "\n",
    "В итоги не попадут неудачные результаты, в итоги не попадут результаты больше чем 0.01, в итоги не попадут результаты, которые хуже чем те что уже есть. Интервал случайных точек - от -100 до 100! 1000 расчетов!"
   ]
  },
  {
   "cell_type": "code",
   "execution_count": 706,
   "metadata": {},
   "outputs": [],
   "source": [
    "itlist = []\n",
    "reslist = []\n",
    "paramlist = []\n",
    "result = 0.01\n",
    "\n",
    "for kk in range(1000):\n",
    "    \n",
    "    params = np.random.uniform(low=-100, high=100, size=(2,))\n",
    "    res = minimize(error, params, method='nelder-mead', options = {'xtol': 1e-10, 'disp' : False} )\n",
    "    \n",
    "    if res.fun < result:\n",
    "        \n",
    "        result = res.fun\n",
    "        best_params = res.x\n",
    "        \n",
    "        itlist.append(res.nit)\n",
    "        reslist.append(error(res.x))\n",
    "        paramlist.append(res.x)"
   ]
  },
  {
   "cell_type": "code",
   "execution_count": 707,
   "metadata": {},
   "outputs": [
    {
     "data": {
      "text/plain": [
       "[array([ 3.        , 21.37610417]),\n",
       " array([ 3. , -2.5]),\n",
       " array([ 3. , -2.5]),\n",
       " array([ 3. , -2.5]),\n",
       " array([ 3. , -2.5])]"
      ]
     },
     "execution_count": 707,
     "metadata": {},
     "output_type": "execute_result"
    }
   ],
   "source": [
    "paramlist"
   ]
  },
  {
   "cell_type": "code",
   "execution_count": 708,
   "metadata": {},
   "outputs": [
    {
     "data": {
      "text/plain": [
       "[1.2892899619920684e-05,\n",
       " 1.5109279836167389e-06,\n",
       " 1.5108948039355141e-06,\n",
       " 1.5107201063457865e-06,\n",
       " 1.5102831421032192e-06]"
      ]
     },
     "execution_count": 708,
     "metadata": {},
     "output_type": "execute_result"
    }
   ],
   "source": [
    "reslist"
   ]
  },
  {
   "cell_type": "markdown",
   "metadata": {},
   "source": [
    "Точка a показывает хороший результат в районе 3, точка b всегда стремится к -2.5 и останавливается на этом.\n",
    "\n",
    "Построенный мной цикл работает таким образом, что после найденного лучшего знаечния уже не добавляет новые."
   ]
  },
  {
   "cell_type": "markdown",
   "metadata": {},
   "source": [
    "#### Сделаем несколько итераций и покажем графически"
   ]
  },
  {
   "cell_type": "markdown",
   "metadata": {},
   "source": [
    "Устанавливаем гораздо более лояльные критерии, но сузим диапазон поиска.\n",
    "\n",
    "Цель - 0.1, чтобы собрать побольше точек, те же 1000 запусков"
   ]
  },
  {
   "cell_type": "code",
   "execution_count": 709,
   "metadata": {},
   "outputs": [],
   "source": [
    "itlist = []\n",
    "reslist = []\n",
    "paramlist = []\n",
    "target = 0.1\n",
    "\n",
    "for kk in range(1000):\n",
    "    \n",
    "    params = np.random.uniform(low=-10, high=10, size=(2,))\n",
    "    res = minimize(error, params, method='nelder-mead', options = {'xtol': 1e-10, 'disp' : False} )\n",
    "    \n",
    "    if res.fun < target and res.nit<100:\n",
    "        \n",
    "        itlist.append(res.nit)\n",
    "        reslist.append(error(res.x))\n",
    "        paramlist.append(res.x)"
   ]
  },
  {
   "cell_type": "code",
   "execution_count": 711,
   "metadata": {},
   "outputs": [
    {
     "data": {
      "image/png": "[encoded data removed]",
      "text/plain": [
       "<Figure size 1050x1050 with 2 Axes>"
      ]
     },
     "metadata": {
      "needs_background": "light"
     },
     "output_type": "display_data"
    }
   ],
   "source": [
    "fig = plt.figure(figsize=(15,15), dpi = 70)\n",
    "ax = fig.gca(projection='3d')\n",
    "\n",
    "#Make data\n",
    "\n",
    "X = np.array(paramlist)[:,0]\n",
    "Y = np.array(paramlist)[:,1]\n",
    "X, Y = np.meshgrid(X, Y)\n",
    "\n",
    "Z = np.array([reslist])*1000\n",
    "\n",
    "#Plot the surface\n",
    "\n",
    "surf = ax.plot_surface(X, Y, Z, cmap = cm.coolwarm, linewidth=0, antialiased=False)\n",
    "\n",
    "#Customize the z axis\n",
    "\n",
    "ax.set_zlim(0.0014, 0.0016)\n",
    "ax.zaxis.set_major_locator(LinearLocator(5))\n",
    "ax.xaxis.set_major_locator(LinearLocator(3))\n",
    "ax.yaxis.set_major_locator(LinearLocator(3))\n",
    "\n",
    "ax.xaxis.set_major_formatter(FormatStrFormatter('%.05f'))\n",
    "ax.zaxis.set_major_formatter(FormatStrFormatter('%.04f'))\n",
    "ax.yaxis.set_major_formatter(FormatStrFormatter('%.05f'))\n",
    "\n",
    "#Add a color bar which maps values to colors\n",
    "\n",
    "fig.colorbar(surf, shrink  = 0.5, aspect = 5)\n",
    "\n",
    "#настроек не так много, но они есть.  можно поменять угол зрения, расстояние до графика и высоту с которой смотрим\n",
    "\n",
    "ax.azim = 45\n",
    "ax.dist = 10\n",
    "ax.elev = 10\n",
    "\n",
    "plt.show()"
   ]
  },
  {
   "cell_type": "markdown",
   "metadata": {},
   "source": [
    "#### Подставим 20 значений из списка лучших параметров в функцию f, посмотрим графически"
   ]
  },
  {
   "cell_type": "code",
   "execution_count": 712,
   "metadata": {},
   "outputs": [
    {
     "data": {
      "image/png": "[encoded data removed]",
      "text/plain": [
       "<Figure size 432x288 with 1 Axes>"
      ]
     },
     "metadata": {
      "needs_background": "light"
     },
     "output_type": "display_data"
    }
   ],
   "source": [
    "plt.figure()\n",
    "\n",
    "plt.plot(x, fx, color = 'r')\n",
    "plt.scatter(x, f(x, np.array(paramlist)[:,0][-20:], np.array(paramlist)[:,1][-20:]))\n",
    "\n",
    "plt.show()"
   ]
  },
  {
   "cell_type": "markdown",
   "metadata": {},
   "source": [
    "Параметры подобраны верно, точки на графике"
   ]
  },
  {
   "cell_type": "code",
   "execution_count": 713,
   "metadata": {},
   "outputs": [
    {
     "data": {
      "text/plain": [
       "array([3., 3., 3., 3., 3., 3., 3., 3., 3., 3., 3., 3., 3., 3., 3., 3., 3.,\n",
       "       3., 3., 3.])"
      ]
     },
     "execution_count": 713,
     "metadata": {},
     "output_type": "execute_result"
    }
   ],
   "source": [
    "np.array(paramlist)[:,0][-20:]"
   ]
  },
  {
   "cell_type": "code",
   "execution_count": 714,
   "metadata": {},
   "outputs": [
    {
     "data": {
      "text/plain": [
       "array([-2.5, -2.5, -2.5, -2.5, -2.5, -2.5, -2.5, -2.5, -2.5, -2.5, -2.5,\n",
       "       -2.5, -2.5, -2.5, -2.5, -2.5, -2.5, -2.5, -2.5, -2.5])"
      ]
     },
     "execution_count": 714,
     "metadata": {},
     "output_type": "execute_result"
    }
   ],
   "source": [
    "np.array(paramlist)[:,1][-20:]"
   ]
  },
  {
   "cell_type": "code",
   "execution_count": 715,
   "metadata": {},
   "outputs": [
    {
     "data": {
      "text/plain": [
       "3.000000000532734"
      ]
     },
     "execution_count": 715,
     "metadata": {},
     "output_type": "execute_result"
    }
   ],
   "source": [
    "np.array(paramlist)[:,0].mean()"
   ]
  },
  {
   "cell_type": "code",
   "execution_count": 716,
   "metadata": {},
   "outputs": [
    {
     "data": {
      "text/plain": [
       "-2.499999999981924"
      ]
     },
     "execution_count": 716,
     "metadata": {},
     "output_type": "execute_result"
    }
   ],
   "source": [
    "np.array(paramlist)[:,1].mean()"
   ]
  },
  {
   "cell_type": "markdown",
   "metadata": {},
   "source": [
    "Итак, предложен альтернативный вариант расчета, в том числе с более низким порогом входа результата. Проведено несколько тысяч экспериментов на широком диапазоне случайных точек, которые нрас аналитически и графически приводят к тому, что лучшим значением параметра a является 3, параметр b имеет некоторую вариативность, но лучший результат получается при -2.5."
   ]
  },
  {
   "cell_type": "markdown",
   "metadata": {},
   "source": [
    "Сделаем расчет error с лучшими параметрами"
   ]
  },
  {
   "cell_type": "code",
   "execution_count": 717,
   "metadata": {
    "scrolled": true
   },
   "outputs": [
    {
     "data": {
      "text/plain": [
       "1.5163282540697764e-06"
      ]
     },
     "execution_count": 717,
     "metadata": {},
     "output_type": "execute_result"
    }
   ],
   "source": [
    "error([3, -2.5])"
   ]
  },
  {
   "cell_type": "markdown",
   "metadata": {},
   "source": [
    "## Задание 4\n",
    "Создайте собственную дискретную случайную величину с 20 значениями. Сгенерируйте 1000 выборок размера 50. Посчитайте среднее для каждой выборки. Постройте гистограмму распределения средних."
   ]
  },
  {
   "cell_type": "code",
   "execution_count": 718,
   "metadata": {},
   "outputs": [
    {
     "data": {
      "image/png": "[encoded data removed]",
      "text/plain": [
       "<Figure size 432x288 with 1 Axes>"
      ]
     },
     "metadata": {
      "needs_background": "light"
     },
     "output_type": "display_data"
    }
   ],
   "source": [
    "plt.figure()\n",
    "\n",
    "#Создаем случайную величину и задаем число выборок\n",
    "elements = np.random.uniform(low=0, high=42, size=(20,)).round()\n",
    "n = 1000\n",
    "\n",
    "#Делаем 1000 выборок размера 50, считаем среднее для каждой\n",
    "values = np.zeros((n, 1))\n",
    "for i in range(n):\n",
    "    values[i,0] = np.mean(np.random.choice(elements, 50))\n",
    "    \n",
    "#Рисуем \n",
    "plt.hist(values, 50, color = 'g')\n",
    "plt.xlabel('value')\n",
    "plt.ylabel('frequency')\n",
    "plt.grid()\n",
    "\n",
    "plt.show()"
   ]
  },
  {
   "cell_type": "markdown",
   "metadata": {},
   "source": [
    "## Задание 5\n",
    "Найдите собственные значения и собственные вектора матрицы (на python и на бумаге):\n",
    "\n",
    "m = np.array([[1, 4],\n",
    "              [1, 1]])\n",
    "              \n",
    "print(m)"
   ]
  },
  {
   "cell_type": "code",
   "execution_count": 719,
   "metadata": {},
   "outputs": [
    {
     "data": {
      "text/plain": [
       "array([[1, 4],\n",
       "       [1, 1]])"
      ]
     },
     "execution_count": 719,
     "metadata": {},
     "output_type": "execute_result"
    }
   ],
   "source": [
    "m = np.array( [[1, 4], [1, 1]] )\n",
    "m"
   ]
  },
  {
   "cell_type": "code",
   "execution_count": 720,
   "metadata": {},
   "outputs": [
    {
     "name": "stdout",
     "output_type": "stream",
     "text": [
      "Собственное значение  3.0000000000000004\n",
      "соответствующий ему собственный вектор  [ 0.89442719 -0.89442719]\n",
      "\n",
      "Собственное значение  -0.9999999999999996\n",
      "соответствующий ему собственный вектор  [0.4472136 0.4472136]\n",
      "\n"
     ]
    }
   ],
   "source": [
    "#Используем команду из linalg и сразу обращаемся к обоим объектам\n",
    "w, v = np.linalg.eig(m)\n",
    "\n",
    "for i in range(len(w)):\n",
    "    \n",
    "    print(\"Собственное значение \", w[i])\n",
    "    print(\"соответствующий ему собственный вектор \", v[i] )\n",
    "    print('')"
   ]
  },
  {
   "cell_type": "code",
   "execution_count": 721,
   "metadata": {},
   "outputs": [
    {
     "data": {
      "text/plain": [
       "(array([ 3., -1.]), array([[ 0.89442719, -0.89442719],\n",
       "        [ 0.4472136 ,  0.4472136 ]]))"
      ]
     },
     "execution_count": 721,
     "metadata": {},
     "output_type": "execute_result"
    }
   ],
   "source": [
    "np.linalg.eig(m)"
   ]
  }
 ],
 "metadata": {
  "colab": {
   "collapsed_sections": [],
   "name": "netology_clas_clust.ipynb",
   "provenance": []
  },
  "kernelspec": {
   "display_name": "Python 3",
   "language": "python",
   "name": "python3"
  },
  "language_info": {
   "codemirror_mode": {
    "name": "ipython",
    "version": 3
   },
   "file_extension": ".py",
   "mimetype": "text/x-python",
   "name": "python",
   "nbconvert_exporter": "python",
   "pygments_lexer": "ipython3",
   "version": "3.7.3"
  }
 },
 "nbformat": 4,
 "nbformat_minor": 1
}
