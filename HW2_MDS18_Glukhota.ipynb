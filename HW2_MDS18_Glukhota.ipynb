{
 "cells": [
  {
   "cell_type": "code",
   "execution_count": 3,
   "metadata": {},
   "outputs": [],
   "source": [
    "import numpy as np"
   ]
  },
  {
   "cell_type": "markdown",
   "metadata": {},
   "source": [
    "# Задание\n",
    "\n",
    "* Создайте случайную матрицу А1 размерностью 5 на 5\n",
    "* Транспонируйте матрицу A1\n",
    "* Найдите обратную матрицу для А1\n",
    "* Создайте диагональную матрицу - поэлементно перемножив единичную матрицу I и случайную матрицу A2 размерности 4 на 4\n",
    "* Создайте нулевую матрицу размерности 3 на 3\n",
    "* Для всех полученных матриц найдите: определитель, ранг и собственные значения\n",
    "* Проанализируйте результаты"
   ]
  },
  {
   "cell_type": "markdown",
   "metadata": {},
   "source": [
    "#### Создайте случайную матрицу А1 размерностью 5 на 5"
   ]
  },
  {
   "cell_type": "code",
   "execution_count": 5,
   "metadata": {},
   "outputs": [
    {
     "data": {
      "text/plain": [
       "array([[0.21743489, 0.06937727, 0.94033861, 0.1042091 , 0.5403797 ],\n",
       "       [0.66066124, 0.22140834, 0.60298048, 0.46633729, 0.31146004],\n",
       "       [0.43930655, 0.4802107 , 0.29349281, 0.3864864 , 0.7103176 ],\n",
       "       [0.45353284, 0.88364668, 0.72353706, 0.74359784, 0.66159059],\n",
       "       [0.51081875, 0.08182166, 0.48233263, 0.68563243, 0.06851409]])"
      ]
     },
     "execution_count": 5,
     "metadata": {},
     "output_type": "execute_result"
    }
   ],
   "source": [
    "A1 = np.random.random((5,5))\n",
    "A1"
   ]
  },
  {
   "cell_type": "markdown",
   "metadata": {},
   "source": [
    "#### Транспонируйте матрицу A1"
   ]
  },
  {
   "cell_type": "code",
   "execution_count": 6,
   "metadata": {},
   "outputs": [
    {
     "data": {
      "text/plain": [
       "array([[0.21743489, 0.66066124, 0.43930655, 0.45353284, 0.51081875],\n",
       "       [0.06937727, 0.22140834, 0.4802107 , 0.88364668, 0.08182166],\n",
       "       [0.94033861, 0.60298048, 0.29349281, 0.72353706, 0.48233263],\n",
       "       [0.1042091 , 0.46633729, 0.3864864 , 0.74359784, 0.68563243],\n",
       "       [0.5403797 , 0.31146004, 0.7103176 , 0.66159059, 0.06851409]])"
      ]
     },
     "execution_count": 6,
     "metadata": {},
     "output_type": "execute_result"
    }
   ],
   "source": [
    "A1.T"
   ]
  },
  {
   "cell_type": "markdown",
   "metadata": {},
   "source": [
    "#### Найдите обратную матрицу для А1"
   ]
  },
  {
   "cell_type": "code",
   "execution_count": 8,
   "metadata": {},
   "outputs": [
    {
     "data": {
      "text/plain": [
       "array([[-0.953974  ,  3.45997314, -0.07763518, -0.61075422, -1.502177  ],\n",
       "       [-0.92330386,  1.72260251, -1.52034583,  1.79518407, -2.12125197],\n",
       "       [ 0.88917377,  0.49578372, -1.43715184,  0.61773315, -0.33220107],\n",
       "       [ 0.11715579, -2.94139195,  0.99697045, -0.08960291,  2.9765002 ],\n",
       "       [ 0.78306127, -1.90886725,  2.53502122, -1.04239034,  0.8808537 ]])"
      ]
     },
     "execution_count": 8,
     "metadata": {},
     "output_type": "execute_result"
    }
   ],
   "source": [
    "A1_ = np.linalg.inv(A1)\n",
    "A1_"
   ]
  },
  {
   "cell_type": "code",
   "execution_count": 18,
   "metadata": {},
   "outputs": [
    {
     "data": {
      "text/plain": [
       "array([[ 1.,  0.,  0., -0., -0.],\n",
       "       [-0.,  1., -0., -0., -0.],\n",
       "       [-0., -0.,  1., -0., -0.],\n",
       "       [-0.,  0.,  0.,  1., -0.],\n",
       "       [-0.,  0., -0., -0.,  1.]])"
      ]
     },
     "execution_count": 18,
     "metadata": {},
     "output_type": "execute_result"
    }
   ],
   "source": [
    "#Проверим результат\n",
    "A1_1 = A1 @ A1_\n",
    "A1_1.round()"
   ]
  },
  {
   "cell_type": "markdown",
   "metadata": {},
   "source": [
    "Получилось неплохо. Есть небольшие минусы, но вероятно это не критично"
   ]
  },
  {
   "cell_type": "markdown",
   "metadata": {},
   "source": [
    "#### Создайте диагональную матрицу - поэлементно перемножив единичную матрицу I и случайную матрицу A2 размерности 4 на 4"
   ]
  },
  {
   "cell_type": "code",
   "execution_count": 29,
   "metadata": {},
   "outputs": [
    {
     "data": {
      "text/plain": [
       "array([[0.86180382, 0.05530644, 0.09250022, 0.54067593],\n",
       "       [0.25868344, 0.64838471, 0.15134282, 0.95909987],\n",
       "       [0.28146542, 0.30068453, 0.45243131, 0.29845918],\n",
       "       [0.88021427, 0.37290958, 0.23401926, 0.11824329]])"
      ]
     },
     "execution_count": 29,
     "metadata": {},
     "output_type": "execute_result"
    }
   ],
   "source": [
    "A2 = np.random.random((4,4))\n",
    "A2"
   ]
  },
  {
   "cell_type": "code",
   "execution_count": 30,
   "metadata": {},
   "outputs": [
    {
     "data": {
      "text/plain": [
       "array([[1., 0., 0., 0.],\n",
       "       [0., 1., 0., 0.],\n",
       "       [0., 0., 1., 0.],\n",
       "       [0., 0., 0., 1.]])"
      ]
     },
     "execution_count": 30,
     "metadata": {},
     "output_type": "execute_result"
    }
   ],
   "source": [
    "I  = np.eye(4)\n",
    "I"
   ]
  },
  {
   "cell_type": "code",
   "execution_count": 31,
   "metadata": {},
   "outputs": [
    {
     "data": {
      "text/plain": [
       "array([[0.86180382, 0.        , 0.        , 0.        ],\n",
       "       [0.        , 0.64838471, 0.        , 0.        ],\n",
       "       [0.        , 0.        , 0.45243131, 0.        ],\n",
       "       [0.        , 0.        , 0.        , 0.11824329]])"
      ]
     },
     "execution_count": 31,
     "metadata": {},
     "output_type": "execute_result"
    }
   ],
   "source": [
    "A3 = A2 * I\n",
    "A3"
   ]
  },
  {
   "cell_type": "markdown",
   "metadata": {},
   "source": [
    "#### Создайте нулевую матрицу размерности 3 на 3"
   ]
  },
  {
   "cell_type": "code",
   "execution_count": 32,
   "metadata": {},
   "outputs": [
    {
     "data": {
      "text/plain": [
       "array([[0., 0., 0.],\n",
       "       [0., 0., 0.],\n",
       "       [0., 0., 0.]])"
      ]
     },
     "execution_count": 32,
     "metadata": {},
     "output_type": "execute_result"
    }
   ],
   "source": [
    "A4 = np.zeros((3,3))\n",
    "A4"
   ]
  },
  {
   "cell_type": "markdown",
   "metadata": {},
   "source": [
    "#### Для всех полученных матриц найдите: определитель, ранг и собственные значения"
   ]
  },
  {
   "cell_type": "code",
   "execution_count": 50,
   "metadata": {},
   "outputs": [
    {
     "name": "stdout",
     "output_type": "stream",
     "text": [
      "Для матрицы A 1  : определитель -  0.054 , ранг -  5 , собственные значения -  [ 2.36+0.j   -0.52+0.2j  -0.52-0.2j   0.11+0.25j  0.11-0.25j]\n",
      "Для матрицы A 2  : определитель -  0.03 , ранг -  4 , собственные значения -  [0.86 0.65 0.45 0.12]\n",
      "Для матрицы A 3  : определитель -  0.0 , ранг -  0 , собственные значения -  [0. 0. 0.]\n"
     ]
    }
   ],
   "source": [
    "matrixs = [A1, A3, A4]\n",
    "\n",
    "for i, m in enumerate(matrixs):\n",
    "    det = np.linalg.det(m)\n",
    "    rank = np.linalg.matrix_rank(m)\n",
    "    eigval = np.linalg.eigvals(m)\n",
    "    print('Для матрицы A', i+1, ' : определитель - ', round(det,  3), ', ранг - ', rank, ', собственные значения - ', eigval.round(2))"
   ]
  },
  {
   "cell_type": "markdown",
   "metadata": {},
   "source": [
    "#### Проанализируйте результаты"
   ]
  },
  {
   "cell_type": "markdown",
   "metadata": {},
   "source": [
    "+ Для случайной матрицы (A1) ранг 5 - максимальный ранг ненулевых миноров, максимальное число, что логично и соответствует размеру ее стороны. Собственные значения сложно интерпретировать на текущем этапе\n",
    "+ Для диагональной матрицы ранг равен 4 - логично, тк матрица 4х4. Элементы на диагонали - ненулевые. Определитль существенно ниже 0 тк по сути является произведением элементов на диагонали, а они все ниже 0. Собственные значения равны значениям на диагонали, что отражает особенность этой матрицы\n",
    "+ Для нулевой матрицы определитель, ранг и собственные значения равны 0."
   ]
  }
 ],
 "metadata": {
  "colab": {
   "collapsed_sections": [],
   "name": "netology_clas_clust.ipynb",
   "provenance": []
  },
  "kernelspec": {
   "display_name": "Python 3",
   "language": "python",
   "name": "python3"
  },
  "language_info": {
   "codemirror_mode": {
    "name": "ipython",
    "version": 3
   },
   "file_extension": ".py",
   "mimetype": "text/x-python",
   "name": "python",
   "nbconvert_exporter": "python",
   "pygments_lexer": "ipython3",
   "version": "3.7.3"
  }
 },
 "nbformat": 4,
 "nbformat_minor": 1
}
