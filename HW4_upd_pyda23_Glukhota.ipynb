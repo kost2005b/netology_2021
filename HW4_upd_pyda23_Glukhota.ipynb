{
 "cells": [
  {
   "cell_type": "markdown",
   "metadata": {},
   "source": [
    "# Задание \n",
    "\n",
    "Вам нужно помочь секретарю автоматизировать работу. Для этого нужно написать программу, которая будет на основе хранимых данных исполнять пользовательские команды.\n",
    "\n",
    "Исходные данные имеют следующую структуру:\n",
    "\n",
    "1.перечень всех документов\n",
    "documents = [\n",
    "{‘type’: ‘passport’, ‘number’: ‘2207 876234’, ‘name’: ‘Василий Гупкин’},\n",
    "{‘type’: ‘invoice’, ‘number’: ‘11-2’, ‘name’: ‘Геннадий Покемонов’},\n",
    "{‘type’: ‘insurance’, ‘number’: ‘10006’, ‘name’: ‘Аристарх Павлов’}\n",
    "]\n",
    "\n",
    "2.перечень полок, на которых хранятся документы (если документ есть в documents, то он обязательно должен быть и в directories)\n",
    "directories = {\n",
    "‘1’: [‘2207 876234’, ‘11-2’],\n",
    "‘2’: [‘10006’],\n",
    "‘3’: []\n",
    "}\n",
    "\n",
    "Общие требования к программе:\n",
    "\n",
    "+ код должен быть грамотно декомпозирован (каждая функция отвечает за свою конкретную задачу, дублирующийся функционал переиспользуется, а его код не повторяется);\n",
    "+ в коде отсутствуют глобальные переменные (за исключением documents и directories);\n",
    "+ пользовательский ввод обрабатывается в цикле while до тех пор, пока пользователь явно не завершит программу (вводом команды “q”)."
   ]
  },
  {
   "cell_type": "code",
   "execution_count": 39,
   "metadata": {},
   "outputs": [],
   "source": [
    "documents = [ {'type': 'passport', 'number': '2207 876234', 'name': 'Василий Гупкин'}, {'type': 'invoice', 'number': '11-2', 'name': 'Геннадий Покемонов'}, {'type': 'insurance', 'number': '10006', 'name': 'Аристарх Павлов'} ]"
   ]
  },
  {
   "cell_type": "code",
   "execution_count": 40,
   "metadata": {},
   "outputs": [],
   "source": [
    "directories = { '1': ['2207 876234', '11-2'], '2': ['10006'], '3': [] }"
   ]
  },
  {
   "cell_type": "markdown",
   "metadata": {},
   "source": [
    "## Задание 1\n",
    "\n",
    "\n",
    "Пункт 1. Пользователь по команде “p” может узнать владельца документа по его номеру\n",
    "\n",
    "Пункт 2. Пользователь по команде “s” может по номеру документа узнать на какой полке он хранится\n",
    "\n",
    "Пункт 3. Пользователь по команде “l” может увидеть полную информацию по всем документам\n",
    "\n",
    "Пункт 4. Пользователь по команде “ads” может добавить новую полку\n",
    "\n",
    "Пункт 5. Пользователь по команде “ds” может удалить существующую полку из данных (только если она пустая)"
   ]
  },
  {
   "cell_type": "code",
   "execution_count": 41,
   "metadata": {},
   "outputs": [],
   "source": [
    "def find_doc(doc_n):\n",
    "    \n",
    "    \"\"\"Функция ищет владельца документа по его номеру в библиотеке documents\"\"\"\n",
    "    \n",
    "    d_name = ''\n",
    "    \n",
    "    for i in documents:\n",
    "        \n",
    "        if i['number'] == doc_n:\n",
    "            \n",
    "            d_name = i['name']\n",
    "            print('Владелец  документа - ', d_name)\n",
    "        \n",
    "    if d_name == '':\n",
    "        \n",
    "        print('Документ не найден в базе')"
   ]
  },
  {
   "cell_type": "code",
   "execution_count": 42,
   "metadata": {},
   "outputs": [],
   "source": [
    "def find_directory(doc_n):\n",
    "    \n",
    "    \"\"\"Функция ищет полку для документа по его номеру\"\"\"\n",
    "\n",
    "    directory = ''\n",
    "    for dir_n, docs_n in directories.items():\n",
    "        \n",
    "        if doc_n in docs_n:\n",
    "            directory = dir_n \n",
    "    \n",
    "    return directory"
   ]
  },
  {
   "cell_type": "code",
   "execution_count": 43,
   "metadata": {},
   "outputs": [],
   "source": [
    "def find_number_directory():\n",
    "    \n",
    "    \"\"\"Функция выводит номер полки для документа по его номеру\"\"\"\n",
    "    \n",
    "    user_input = input('Введите номер документа')\n",
    "    \n",
    "    if find_directory(user_input) == '':\n",
    "        print('Документ не найден')\n",
    "    else:\n",
    "        print('Номер полки для этого документа - ', find_directory(user_input))"
   ]
  },
  {
   "cell_type": "code",
   "execution_count": 44,
   "metadata": {},
   "outputs": [],
   "source": [
    "def full_info_docs():\n",
    "    \n",
    "    \"\"\"Функция выводит информацию обо всех документах\"\"\"\n",
    "    \n",
    "    for doc in documents:\n",
    "\n",
    "        print('№:', doc['number'], 'тип:', doc['type'], 'владелец:', doc['name'], 'полка хранения:', find_directory(doc['number']))"
   ]
  },
  {
   "cell_type": "code",
   "execution_count": 45,
   "metadata": {},
   "outputs": [],
   "source": [
    "def make_new_directory(dir_n):\n",
    "    \n",
    "    \"\"\"Функция добавляет новую полку (если полки с таким номером еще нет) и выводит актуальный список полок\"\"\"\n",
    "    \n",
    "    if dir_n not in directories.keys():\n",
    "        \n",
    "        directories.setdefault(dir_n)\n",
    "        directories[dir_n] = []\n",
    "        print('Полка добавлена. Текущий перечень полок:', [i for i in directories.keys()])\n",
    "        \n",
    "    else:\n",
    "        print('Полка уже существует. Текущий перечень полок:', [i for i in directories.keys()])\n",
    "        "
   ]
  },
  {
   "cell_type": "code",
   "execution_count": 46,
   "metadata": {},
   "outputs": [],
   "source": [
    "def delete_directory(dir_n):\n",
    "    \n",
    "    \"\"\"Функция удаляет полку (если она существует и она не пустая) и выводит актуальный список полок\"\"\"\n",
    "    \n",
    "    if dir_n in directories.keys():\n",
    "        \n",
    "        if directories[dir_n] == None or directories[dir_n] == []:\n",
    "            \n",
    "            del(directories[dir_n])\n",
    "            print('Полка удалена. Текущий перечень полок:', [i for i in directories.keys()])\n",
    "            \n",
    "        else:\n",
    "            print('Полка не пуста, удалите документы. Текущий перечень полок:', [i for i in directories.keys()])\n",
    "        \n",
    "    else:\n",
    "        print('Такой полки не существует', [i for i in directories.keys()])"
   ]
  },
  {
   "cell_type": "code",
   "execution_count": 47,
   "metadata": {},
   "outputs": [],
   "source": [
    "def main():\n",
    "    \n",
    "    \"\"\"Функция объединяет функционал для автоматизации работы секретаря\"\"\"\n",
    "    \n",
    "    user_input = ''\n",
    "    \n",
    "    while user_input != 'q':\n",
    "        \n",
    "        user_input = input('Введите команду. p - узнать владельца документа по номеру; s - найти полку документа по номеру; l - увидеть полную информацию по всем документам; ads - добавить новую полку; ds - удалить полку; q - завершить программу')\n",
    "              \n",
    "        if user_input == 'p':\n",
    "            find_doc(doc_n = input('Введите номер документа'))     \n",
    "        elif user_input == 's':\n",
    "            find_number_directory()\n",
    "        elif user_input == 'l':\n",
    "            full_info_docs()   \n",
    "        elif user_input == 'ads':\n",
    "            make_new_directory(dir_n = input('введите номер новой полки'))\n",
    "        elif user_input == 'ds':\n",
    "            delete_directory(dir_n = input('введите номер удаляемой полки'))"
   ]
  },
  {
   "cell_type": "code",
   "execution_count": 50,
   "metadata": {},
   "outputs": [
    {
     "name": "stdout",
     "output_type": "stream",
     "text": [
      "Введите команду. p - узнать владельца документа по номеру; s - найти полку документа по номеру; l - увидеть полную информацию по всем документам; ads - добавить новую полку; ds - удалить полку; q - завершить программуds\n",
      "введите номер удаляемой полки7\n",
      "Полка удалена. Текущий перечень полок: ['1', '2', '3']\n",
      "Введите команду. p - узнать владельца документа по номеру; s - найти полку документа по номеру; l - увидеть полную информацию по всем документам; ads - добавить новую полку; ds - удалить полку; q - завершить программуq\n"
     ]
    }
   ],
   "source": [
    "main()"
   ]
  },
  {
   "cell_type": "code",
   "execution_count": 51,
   "metadata": {},
   "outputs": [
    {
     "data": {
      "text/plain": [
       "{'1': ['2207 876234', '11-2'], '2': ['10006'], '3': []}"
      ]
     },
     "execution_count": 51,
     "metadata": {},
     "output_type": "execute_result"
    }
   ],
   "source": [
    "directories"
   ]
  },
  {
   "cell_type": "markdown",
   "metadata": {},
   "source": [
    "## Задание 2 (необязательное)\n",
    "Вам необходимо дополнить программу из задания 1 более продвинутыми командами.\n",
    "\n",
    "Пункт 1. Пользователь по команде “ad” может добавить новый документ в данные\n",
    "\n",
    "Пункт 2. Пользователь по команде “d” может удалить документ из данных\n",
    "\n",
    "Пункт 3. Пользователь по команде “m” может переместить документ с полки на полку\n",
    "\n"
   ]
  },
  {
   "cell_type": "code",
   "execution_count": null,
   "metadata": {},
   "outputs": [],
   "source": []
  }
 ],
 "metadata": {
  "kernelspec": {
   "display_name": "Python 3",
   "language": "python",
   "name": "python3"
  },
  "language_info": {
   "codemirror_mode": {
    "name": "ipython",
    "version": 3
   },
   "file_extension": ".py",
   "mimetype": "text/x-python",
   "name": "python",
   "nbconvert_exporter": "python",
   "pygments_lexer": "ipython3",
   "version": "3.7.3"
  }
 },
 "nbformat": 4,
 "nbformat_minor": 2
}
