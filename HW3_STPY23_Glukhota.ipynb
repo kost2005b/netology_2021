{
 "cells": [
  {
   "cell_type": "markdown",
   "metadata": {},
   "source": [
    "### Задание\n",
    "\n",
    "Смоделировать игру против лотерейного автомата типа “777”. Игрок платит 1 руб., после чего выпадает случайное целое число, равномерно распределенное от 0 до 999. При некоторых значениях числа игрок получает выигрыш.\n",
    "\n",
    "+ 777: 200 руб.\n",
    "+ 999: 100 руб.\n",
    "+ 555: 50 руб.\n",
    "+ 333: 15 руб.\n",
    "+ 111: 10 руб.\n",
    "+ *77: 5 руб.\n",
    "+ **7: 3 руб.\n",
    "+ *00: 2 руб.\n",
    "+ **0: 1 руб.\n",
    "\n",
    "Вопросы:\n",
    "\n",
    "Выгодна ли игра игроку?\n",
    "Сколько в среднем приобретает или теряет игрок за одну игру?\n",
    "\n",
    "\n",
    "**Дополнительное задание повышенной сложности. **\n",
    "\n",
    "Теоретически рассчитать средний выигрыш (проигрыш) и сравнить с результатами моделирования\n",
    "– любая цифра"
   ]
  },
  {
   "cell_type": "code",
   "execution_count": 1,
   "metadata": {},
   "outputs": [],
   "source": [
    "import numpy as np"
   ]
  },
  {
   "cell_type": "markdown",
   "metadata": {},
   "source": [
    "#### Смоделируем автомат и покидаем монеты"
   ]
  },
  {
   "cell_type": "code",
   "execution_count": 450,
   "metadata": {},
   "outputs": [
    {
     "name": "stdout",
     "output_type": "stream",
     "text": [
      "ставка -  10 выигрыш -  0 эффективность -  0.0\n",
      "ставка -  100 выигрыш -  93 эффективность -  0.93\n",
      "ставка -  1000 выигрыш -  756 эффективность -  0.756\n",
      "ставка -  10000 выигрыш -  9081 эффективность -  0.9081\n",
      "ставка -  100000 выигрыш -  78061 эффективность -  0.7806\n",
      "ставка -  1000000 выигрыш -  800121 эффективность -  0.8001\n"
     ]
    }
   ],
   "source": [
    "trials = [10, 100, 1000, 10000, 100000, 1000000]\n",
    "\n",
    "for trial in trials:\n",
    "    \n",
    "    win = 0\n",
    "    \n",
    "    for i in range(trial):\n",
    "    \n",
    "        n = np.random.randint(0, 1000)\n",
    "    \n",
    "        if n == 777:\n",
    "            win += 200\n",
    "        elif n == 999:\n",
    "            win += 100\n",
    "        elif n == 555:\n",
    "            win += 50\n",
    "        elif n == 333:\n",
    "            win += 15\n",
    "        elif n == 111:\n",
    "            win += 10\n",
    "        elif n % 100 == 77:\n",
    "            win += 5\n",
    "        elif n % 10 == 7:\n",
    "            win += 3\n",
    "        elif n % 100 == 0:\n",
    "            win += 2\n",
    "        elif n % 10 == 0:\n",
    "            win += 1\n",
    "\n",
    "    print('ставка - ', trial, 'выигрыш - ', win, 'эффективность - ', round(win / trial, 4))"
   ]
  },
  {
   "cell_type": "markdown",
   "metadata": {},
   "source": [
    "+ В моменте игра может дать хороший результат - положительный эффект наблюдался на уровне ставки в ~1 тысячу\n",
    "+ Также, небольшие ставки могут давать довольно большие потери\n",
    "+ На большом количестве попыток (1 млн) автомат стабильно дает эффективность около 0.8 для игрока\n",
    "+ Вопрос выгоды относителен (нет сравнения с другими играми). Игрок может получить как хороший эффект на небольшом числе бросков, так и потерю. На большом числе бросков автомат дает 20% потери, что можно считать средней потерей за игру и делать вывод что это дорога в один конец"
   ]
  },
  {
   "cell_type": "markdown",
   "metadata": {},
   "source": [
    "#### Посчитаем мат ожидание результата игры"
   ]
  },
  {
   "cell_type": "code",
   "execution_count": 448,
   "metadata": {},
   "outputs": [
    {
     "name": "stdout",
     "output_type": "stream",
     "text": [
      "математическое ожидание выигрыша от одного броска равно  0.8000000000000004\n"
     ]
    }
   ],
   "source": [
    "proba_dict = {}\n",
    "win_dict = {}\n",
    "\n",
    "for n in range(1000):\n",
    "    \n",
    "    if n == 777:\n",
    "        \n",
    "        proba_dict.setdefault(1) == 0\n",
    "        if proba_dict[1] == None:\n",
    "            proba_dict[1] = 1/1000\n",
    "        else:\n",
    "            proba_dict[1] = proba_dict[1]+1/1000\n",
    "        \n",
    "        win_dict.setdefault(1)\n",
    "        win_dict[1] = 200\n",
    "        \n",
    "    elif n == 999:\n",
    "        \n",
    "        proba_dict.setdefault(2) == 0\n",
    "        if proba_dict[2] == None:\n",
    "            proba_dict[2] = 1/1000\n",
    "        else:\n",
    "            proba_dict[2] = proba_dict[2]+1/1000\n",
    "        \n",
    "        win_dict.setdefault(2)\n",
    "        win_dict[2] = 100\n",
    "        \n",
    "    elif n == 555:\n",
    "        \n",
    "        proba_dict.setdefault(3) == 0\n",
    "        if proba_dict[3] == None:\n",
    "            proba_dict[3] = 1/1000\n",
    "        else:\n",
    "            proba_dict[3] = proba_dict[3]+1/1000\n",
    "        \n",
    "        win_dict.setdefault(3)\n",
    "        win_dict[3] = 50\n",
    "        \n",
    "    elif n == 333:\n",
    "        \n",
    "        proba_dict.setdefault(4) == 0\n",
    "        if proba_dict[4] == None:\n",
    "            proba_dict[4] = 1/1000\n",
    "        else:\n",
    "            proba_dict[4] = proba_dict[4]+1/1000\n",
    "        \n",
    "        win_dict.setdefault(4)\n",
    "        win_dict[4] = 15\n",
    "        \n",
    "    elif n == 111:\n",
    "        \n",
    "        proba_dict.setdefault(5) == 0\n",
    "        if proba_dict[5] == None:\n",
    "            proba_dict[5] = 1/1000\n",
    "        else:\n",
    "            proba_dict[5] = proba_dict[5]+1/1000\n",
    "        \n",
    "        win_dict.setdefault(5)\n",
    "        win_dict[5] = 10\n",
    "        \n",
    "    elif n % 100 == 77:\n",
    "        \n",
    "        proba_dict.setdefault(6) == 0\n",
    "        if proba_dict[6] == None:\n",
    "            proba_dict[6] = 1/1000\n",
    "        else:\n",
    "            proba_dict[6] = proba_dict[6]+1/1000\n",
    "    \n",
    "        win_dict.setdefault(6)\n",
    "        win_dict[6] = 5\n",
    "        \n",
    "    elif n % 10 == 7:\n",
    "        \n",
    "        proba_dict.setdefault(7) == 0\n",
    "        if proba_dict[7] == None:\n",
    "            proba_dict[7] = 1/1000\n",
    "        else:\n",
    "            proba_dict[7] = proba_dict[7]+1/1000\n",
    "        \n",
    "        win_dict.setdefault(7)\n",
    "        win_dict[7] = 3\n",
    "        \n",
    "    elif n % 100 == 0:\n",
    "        \n",
    "        proba_dict.setdefault(8) == 0\n",
    "        if proba_dict[8] == None:\n",
    "            proba_dict[8] = 1/1000\n",
    "        else:\n",
    "            proba_dict[8] = proba_dict[8]+1/1000\n",
    "        \n",
    "        win_dict.setdefault(8)\n",
    "        win_dict[8] = 2\n",
    "        \n",
    "    elif n % 10 == 0:\n",
    "        \n",
    "        proba_dict.setdefault(9) == 0\n",
    "        if proba_dict[9] == None:\n",
    "            proba_dict[9] = 1/1000\n",
    "        else:\n",
    "            proba_dict[9] = proba_dict[9]+1/1000\n",
    "            \n",
    "        win_dict.setdefault(9)\n",
    "        win_dict[9] = 1\n",
    "        \n",
    "win_list = [i for i in win_dict.values()]\n",
    "proba_list = [i for i in proba_dict.values()]\n",
    "\n",
    "effect_t = sum([w * p for w, p in zip(win_list, proba_list)])\n",
    "\n",
    "print('математическое ожидание выигрыша от одного броска равно ', effect_t)"
   ]
  },
  {
   "cell_type": "markdown",
   "metadata": {},
   "source": [
    "####  Теоретическое математическое ожидание на том же уровне, к которому стремится результат игры при 1 млн попыток"
   ]
  }
 ],
 "metadata": {
  "colab": {
   "collapsed_sections": [],
   "name": "netology_random_var_template.ipynb",
   "provenance": []
  },
  "kernelspec": {
   "display_name": "Python 3",
   "language": "python",
   "name": "python3"
  },
  "language_info": {
   "codemirror_mode": {
    "name": "ipython",
    "version": 3
   },
   "file_extension": ".py",
   "mimetype": "text/x-python",
   "name": "python",
   "nbconvert_exporter": "python",
   "pygments_lexer": "ipython3",
   "version": "3.7.3"
  }
 },
 "nbformat": 4,
 "nbformat_minor": 1
}
