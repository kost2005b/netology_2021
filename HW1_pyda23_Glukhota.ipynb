{
 "cells": [
  {
   "cell_type": "markdown",
   "metadata": {},
   "source": [
    "## Задание 1\n",
    "\n",
    "Даны 2 переменных, в которых хранятся строки произвольной длины: phrase_1 и phrase_2.\n",
    "\n",
    "Напишите код, который проверяет какая из этих строк длиннее."
   ]
  },
  {
   "cell_type": "code",
   "execution_count": 6,
   "metadata": {},
   "outputs": [
    {
     "name": "stdout",
     "output_type": "stream",
     "text": [
      "фраза 2 - длиннее\n"
     ]
    }
   ],
   "source": [
    "phrase_1 = \"Все было бы проще, если бы не коты.\"\n",
    "phrase_2 = \"Все было бы проще, если бы не псы...\"\n",
    "\n",
    "if len(phrase_1) > len(phrase_2):\n",
    "    print(\"фраза 1 - длиннее\")\n",
    "else: \n",
    "    print(\"фраза 2 - длиннее\")"
   ]
  },
  {
   "cell_type": "markdown",
   "metadata": {},
   "source": [
    "## Задание 2\n",
    "\n",
    "Дана переменная, в которой хранится четырехзначное число (год). \n",
    "\n",
    "Необходимо написать программу, которая выведет, является ли данный год високосным или обычным."
   ]
  },
  {
   "cell_type": "code",
   "execution_count": 13,
   "metadata": {},
   "outputs": [
    {
     "name": "stdout",
     "output_type": "stream",
     "text": [
      "введите год2020\n",
      "2020  - високосный год\n"
     ]
    }
   ],
   "source": [
    "year = int(input('введите год'))\n",
    "if year % 4 == 0:\n",
    "    print(year, \" - високосный год\")\n",
    "else: \n",
    "    print(year, \" - невисокосный год\")"
   ]
  },
  {
   "cell_type": "markdown",
   "metadata": {},
   "source": [
    "## Задание 3\n",
    "Необходимо написать программу, которая будет запрашивать у пользователя месяц и дату рождения и выводить соответствующий знак зодиака."
   ]
  },
  {
   "cell_type": "code",
   "execution_count": 19,
   "metadata": {},
   "outputs": [
    {
     "name": "stdout",
     "output_type": "stream",
     "text": [
      "Введите месяц (название)май\n",
      "Введите число12\n",
      "Телец\n",
      "Всё не то, чем кажется.\n"
     ]
    }
   ],
   "source": [
    "month = input('Введите месяц (название)')\n",
    "day = int(input ('Введите число'))\n",
    "\n",
    "if (month=='декабрь' and day>=21) or (month=='январь' and day<=19):\n",
    "    print('Козерог')\n",
    "elif (month=='январь' and day>=20) or (month=='февраль' and day<=19):\n",
    "    print('Водолей')\n",
    "elif (month=='февраль' and day>=20) or (month=='март' and day<=20):\n",
    "    print('Рыбы')\n",
    "elif (month=='март' and day>=21) or (month=='апрель' and day<=19):\n",
    "    print('Овен')\n",
    "elif (month=='апрель' and day>=20) or (month=='май' and day<=20):\n",
    "    print('Телец')\n",
    "elif (month=='май' and day>=21) or (month=='июнь' and day<=20):\n",
    "    print('Близнецы')\n",
    "elif (month=='июнь' and day>=21) or (month=='июль' and day<=22):\n",
    "    print('Рак')\n",
    "elif (month=='июль' and day>=23) or (month=='август' and day<=22):\n",
    "    print('Лев')\n",
    "elif (month=='август' and day>=23) or (month=='сентябрь' and day<=22):\n",
    "    print('Дева')\n",
    "elif (month=='сентябрь' and day>=23) or (month=='октябрь' and day<=23):\n",
    "    print('Весы')\n",
    "elif (month=='октябрь' and day>=24) or (month=='нобярь' and day<=22):\n",
    "    print('Скорпион')\n",
    "else:\n",
    "    print('Стрелец')\n",
    "print('Всё не то, чем кажется.')"
   ]
  },
  {
   "cell_type": "markdown",
   "metadata": {},
   "source": [
    "## Задание 4\n",
    "Вам нужно написать программу для подбора упаковок по размерам товара. Размеры (ширина, длина, высота) хранятся в переменных (в сантиметрах):\n",
    "\n",
    "width = 10\n",
    "length = 205\n",
    "height = 5\n",
    "Используйте следующие правила:\n",
    "\n",
    "если каждое из трех измерений менее 15 сантиметров, то выведите на экран “Коробка №1”;\n",
    "если хотя бы одно из измерений больше 15 сантиметров, но менее 50 сантиметров, то выводите “Коробка №2”;\n",
    "если длина товара больше 2 метров, то выводите “Упаковка для лыж”;\n",
    "во всех остальных случаях выводите “Стандартная коробка №3”."
   ]
  },
  {
   "cell_type": "code",
   "execution_count": 68,
   "metadata": {},
   "outputs": [
    {
     "name": "stdout",
     "output_type": "stream",
     "text": [
      "коробка для лыж\n"
     ]
    }
   ],
   "source": [
    "width = 10 \n",
    "length = 201\n",
    "height = 5\n",
    "\n",
    "if length > 200:\n",
    "    print('коробка для лыж')\n",
    "elif width < 15 and length < 15 and height < 15:\n",
    "    print('коробка №1')\n",
    "elif (15 < width < 50) or (15 < length < 50) or (15 < height < 50):\n",
    "    print('коробка №2')\n",
    "else:\n",
    "    print('Стандартная коробка №3')"
   ]
  },
  {
   "cell_type": "markdown",
   "metadata": {},
   "source": [
    "## Задание 5 (необязательное)\n",
    "Дана переменная, в которой хранится шестизначное число (номер проездного билета). Напишите программу, которая будет определять, является ли данный билет “счастливым”. Билет считается счастливым, если сумма первых трех цифр совпадает с суммой последних трех цифр номера."
   ]
  },
  {
   "cell_type": "code",
   "execution_count": 33,
   "metadata": {},
   "outputs": [
    {
     "name": "stdout",
     "output_type": "stream",
     "text": [
      "введите шестизначный номер билета167527\n",
      "это - счастливый билет\n"
     ]
    }
   ],
   "source": [
    "ticket = input('введите шестизначный номер билета')\n",
    "\n",
    "if len(ticket) == 6:\n",
    "    \n",
    "    if int(ticket[0]) + int(ticket[1]) + int(ticket[2]) == int(ticket[3]) + int(ticket[4]) + int(ticket[5]):\n",
    "        print('это - счастливый билет')\n",
    "    else:\n",
    "        print('попробуйте купить другой билет')\n",
    "        \n",
    "else:\n",
    "    print('код должен быть шестизначным')"
   ]
  },
  {
   "cell_type": "markdown",
   "metadata": {},
   "source": [
    "## Задание 6 (необязательное)\n",
    "Напишите программу, которая сможет вычислять площади трех фигур (круг, треугольник и прямоугольник). Тип фигуры запрашиваем через пользовательский ввод, после чего делаем запрос характеристик фигуры:\n",
    "\n",
    "если пользователь выбрал круг, запрашиваем его радиус,\n",
    "если треугольник – длины трех его сторон;\n",
    "если прямоугольник – длины двух его сторон.\n",
    "\n"
   ]
  },
  {
   "cell_type": "code",
   "execution_count": 52,
   "metadata": {},
   "outputs": [
    {
     "name": "stdout",
     "output_type": "stream",
     "text": [
      "введите тип фигурытреугольник\n",
      "введите длину стороны a2\n",
      "введите длину стороны b2\n",
      "введите длину стороны c3\n",
      "площадь треугольника равна  1.98\n"
     ]
    }
   ],
   "source": [
    "type = input('введите тип фигуры')\n",
    "\n",
    "if type == 'треугольник':\n",
    "    \n",
    "    a = int(input('введите длину стороны a'))\n",
    "    b = int(input('введите длину стороны b'))\n",
    "    c = int(input('введите длину стороны c'))\n",
    "    \n",
    "    p = (a + b + c) / 2\n",
    "    gerone = (p * (p - a) * (p - b) * (p - c)) ** (0.5)\n",
    "    print('площадь треугольника равна ', round(gerone,2) )\n",
    "\n",
    "elif type == 'круг':\n",
    "    \n",
    "    r = int(input('введите радиус круга'))\n",
    "    \n",
    "    s = 3.141592 * (r ** 2)\n",
    "    print('площадь круга равна ', round(s,2) )\n",
    "    \n",
    "elif type == 'прямоугольник':\n",
    "    \n",
    "    a = int(input('введите длину стороны a'))\n",
    "    b = int(input('введите длину стороны b'))\n",
    "    \n",
    "    s = a * b\n",
    "    print('площадь прямоугольника равна ', round(s,2) )\n",
    "    \n",
    "else: \n",
    "    print('что-то пошло не так.')"
   ]
  }
 ],
 "metadata": {
  "kernelspec": {
   "display_name": "Python 3",
   "language": "python",
   "name": "python3"
  },
  "language_info": {
   "codemirror_mode": {
    "name": "ipython",
    "version": 3
   },
   "file_extension": ".py",
   "mimetype": "text/x-python",
   "name": "python",
   "nbconvert_exporter": "python",
   "pygments_lexer": "ipython3",
   "version": "3.7.3"
  }
 },
 "nbformat": 4,
 "nbformat_minor": 2
}
