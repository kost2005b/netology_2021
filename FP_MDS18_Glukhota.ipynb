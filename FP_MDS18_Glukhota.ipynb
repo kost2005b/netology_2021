{
 "cells": [
  {
   "cell_type": "markdown",
   "metadata": {},
   "source": [
    "# Итоговая работа"
   ]
  },
  {
   "cell_type": "code",
   "execution_count": 537,
   "metadata": {},
   "outputs": [],
   "source": [
    "import matplotlib.pyplot as plt\n",
    "import numpy as np\n",
    "import sympy as sym\n",
    "\n",
    "from scipy.optimize import minimize\n",
    "%matplotlib inline"
   ]
  },
  {
   "cell_type": "markdown",
   "metadata": {},
   "source": [
    "## Задание 1\n",
    "Дана матрица рейтингов фильмов (строки - пользователи (10 человек), столбцы - фильмы (15 фильмов))"
   ]
  },
  {
   "cell_type": "code",
   "execution_count": 538,
   "metadata": {},
   "outputs": [],
   "source": [
    "raitings = np.array([[ 4,  4,  9,  4,  1,  6, 10,  7,  9,  6,  9,  2,  8,  6,  6],\n",
    "                     [ 9,  2,  5, 10,  7,  8, 10,  5,  6,  2,  1,  6,  8,  9,  7],\n",
    "                     [ 1,  6,  8,  8,  4,  9,  3,  8, 10,  5,  2,  6,  8,  1,  6],\n",
    "                     [ 6,  1,  9,  7,  7,  9,  2,  3,  5,  1,  6,  6,  3,  2,  7],\n",
    "                     [ 3,  7,  3,  5,  7,  9,  9,  6,  2,  9,  1,  2,  8, 10,  6],\n",
    "                     [ 8,  3,  7,  3,  8,  6,  1,  8,  8,  6,  1,  9,  4, 10,  1],\n",
    "                     [ 9,  8,  4,  8,  8, 10,  6,  1,  1,  2,  9,  5,  2,  7,  2],\n",
    "                     [ 4,  1,  6,  4,  3, 10,  4,  4,  2,  8,  7,  9,  3,  8,  3],\n",
    "                     [ 2,  7,  7,  6, 10,  6,  8,  9,  8,  6, 10,  1,  7, 10,  4],\n",
    "                     [ 5, 10,  8,  8,  9,  7,  2,  9,  9, 10,  8,  8,  8,  6, 10]])"
   ]
  },
  {
   "cell_type": "markdown",
   "metadata": {},
   "source": [
    "#### a) Необходимо найти наиболее похожего пользователя по косинусной метрике для каждого из (ответ: 10 пар вида (x, y), где y - наиболее похожий пользователь на пользователя x)."
   ]
  },
  {
   "cell_type": "code",
   "execution_count": 539,
   "metadata": {},
   "outputs": [],
   "source": [
    "#Заведем функцию расчета косинуса угла между векторами -  скалярное произведение делить на произведение евклидовых норм\n",
    "\n",
    "def cosine(a, b):\n",
    "\n",
    "    length_a = np.linalg.norm(a)\n",
    "    lenght_b = np.linalg.norm(b)\n",
    "    \n",
    "    return np.dot(a, b) / (length_a * lenght_b)"
   ]
  },
  {
   "cell_type": "code",
   "execution_count": 540,
   "metadata": {},
   "outputs": [
    {
     "name": "stdout",
     "output_type": "stream",
     "text": [
      "для user  1 , ближайший аналог - user  9\n",
      "для user  2 , ближайший аналог - user  5\n",
      "для user  3 , ближайший аналог - user  10\n",
      "для user  4 , ближайший аналог - user  10\n",
      "для user  5 , ближайший аналог - user  9\n",
      "для user  6 , ближайший аналог - user  10\n",
      "для user  7 , ближайший аналог - user  4\n",
      "для user  8 , ближайший аналог - user  6\n",
      "для user  9 , ближайший аналог - user  1\n",
      "для user  10 , ближайший аналог - user  3\n"
     ]
    }
   ],
   "source": [
    "# Прогоним ее через цикл, где попарно сравним всех пользователей. Критерий - наибольший косинус (наименьший угол)\n",
    "\n",
    "for i, user in enumerate(list(raitings)):\n",
    "    \n",
    "    m = -1\n",
    "    \n",
    "    for i_, user_ in enumerate(list(raitings)):\n",
    "\n",
    "        if i != i_ and cosine(user, user_) > m:\n",
    "                               \n",
    "            m = cosine(user, user_)\n",
    "            best_n = i_ + 1\n",
    "            \n",
    "    print('для user ', i + 1, ', ближайший аналог - user ', best_n)"
   ]
  },
  {
   "cell_type": "markdown",
   "metadata": {},
   "source": [
    "#### b) Предположим, вы захотели сжать признаковые описания пользователя с 15 фильмов, до, скажем, 5-ти признаков, как вы это сделаете?"
   ]
  },
  {
   "cell_type": "markdown",
   "metadata": {},
   "source": [
    "Для этих целей можно использовать сингулярное разложение (SVD), которое в усеченном виде реализовано, например в методе главных компонента (PCA).\n",
    "\n",
    "Строится симметричная матрица скалярных произведений всех векторов матрицы. Для этой матрицы находится вектор собственных значений. Результаты  нормализуются (приводятся к единице и получившиеся доли показывают оценочно, какой процент зависимостей объясняют значения того или иного вектора. Можно выбрать лучшие 5.\n",
    "\n",
    "Но нужно обращать внимание на потерю данных, которая произойдет после выбора. На практике желательно, чтобы потеря не превышала 15-20% объяснения зависимостей\n",
    "\n",
    "\n",
    "Есть аналогичные методы, например на  базе ковариационных матриц и диспернсий. работают по тому же принипу."
   ]
  },
  {
   "cell_type": "markdown",
   "metadata": {},
   "source": [
    "## Задание 2\n",
    "\n",
    "Вычислите производную \n",
    "$tg2(sin(x)+cos(2x+3))$\n",
    " в точке \n",
    "$x_0=1$\n",
    " (на python и на бумаге)."
   ]
  },
  {
   "cell_type": "markdown",
   "metadata": {},
   "source": [
    "Вручную"
   ]
  },
  {
   "cell_type": "code",
   "execution_count": 541,
   "metadata": {},
   "outputs": [],
   "source": [
    "#Зададим x как символ\n",
    "x = sym.Symbol('x')"
   ]
  },
  {
   "cell_type": "code",
   "execution_count": 542,
   "metadata": {},
   "outputs": [
    {
     "data": {
      "text/latex": [
       "$\\displaystyle \\tan^{2}{\\left(\\sin{\\left(x \\right)} + \\cos{\\left(2 x + 3 \\right)} \\right)}$"
      ],
      "text/plain": [
       "tan(sin(x) + cos(2*x + 3))**2"
      ]
     },
     "execution_count": 542,
     "metadata": {},
     "output_type": "execute_result"
    }
   ],
   "source": [
    "#вложим функцию в перемнную\n",
    "fx = sym.tan(sym.sin(x) + sym.cos(2 * x + 3))**2\n",
    "fx"
   ]
  },
  {
   "cell_type": "code",
   "execution_count": 543,
   "metadata": {},
   "outputs": [
    {
     "data": {
      "text/latex": [
       "$\\displaystyle 2 \\left(- 2 \\sin{\\left(2 x + 3 \\right)} + \\cos{\\left(x \\right)}\\right) \\left(\\tan^{2}{\\left(\\sin{\\left(x \\right)} + \\cos{\\left(2 x + 3 \\right)} \\right)} + 1\\right) \\tan{\\left(\\sin{\\left(x \\right)} + \\cos{\\left(2 x + 3 \\right)} \\right)}$"
      ],
      "text/plain": [
       "2*(-2*sin(2*x + 3) + cos(x))*(tan(sin(x) + cos(2*x + 3))**2 + 1)*tan(sin(x) + cos(2*x + 3))"
      ]
     },
     "execution_count": 543,
     "metadata": {},
     "output_type": "execute_result"
    }
   ],
   "source": [
    "#Находим первую производную\n",
    "dif = sym.diff(fx, x, 1)\n",
    "dif"
   ]
  },
  {
   "cell_type": "code",
   "execution_count": 544,
   "metadata": {},
   "outputs": [
    {
     "data": {
      "text/latex": [
       "$\\displaystyle 2 \\left(1 + \\tan^{2}{\\left(\\cos{\\left(5 \\right)} + \\sin{\\left(1 \\right)} \\right)}\\right) \\left(\\cos{\\left(1 \\right)} - 2 \\sin{\\left(5 \\right)}\\right) \\tan{\\left(\\cos{\\left(5 \\right)} + \\sin{\\left(1 \\right)} \\right)}$"
      ],
      "text/plain": [
       "2*(1 + tan(cos(5) + sin(1))**2)*(cos(1) - 2*sin(5))*tan(cos(5) + sin(1))"
      ]
     },
     "execution_count": 544,
     "metadata": {},
     "output_type": "execute_result"
    }
   ],
   "source": [
    "#вычисляем производную в точке x=1\n",
    "dif.subs(x, 1)"
   ]
  },
  {
   "cell_type": "code",
   "execution_count": 545,
   "metadata": {},
   "outputs": [
    {
     "data": {
      "text/plain": [
       "55.385917635337954"
      ]
     },
     "execution_count": 545,
     "metadata": {},
     "output_type": "execute_result"
    }
   ],
   "source": [
    "#Посчитаем числом\n",
    "2 * (1 + np.tan(np.cos(5) + np.sin(1))**2 )*(np.cos(1) - 2*np.sin(5))*np.tan(np.cos(5) + np.sin(1))"
   ]
  },
  {
   "cell_type": "markdown",
   "metadata": {},
   "source": [
    "Читерский  метод"
   ]
  },
  {
   "cell_type": "code",
   "execution_count": 546,
   "metadata": {},
   "outputs": [],
   "source": [
    "#Экспортируем\n",
    "from scipy.misc import derivative"
   ]
  },
  {
   "cell_type": "code",
   "execution_count": 547,
   "metadata": {},
   "outputs": [
    {
     "data": {
      "text/plain": [
       "55.3859176464222"
      ]
     },
     "execution_count": 547,
     "metadata": {},
     "output_type": "execute_result"
    }
   ],
   "source": [
    "#Решаем \n",
    "def f(x):\n",
    "    return np.tan(np.sin(x) + np.cos(2 * x + 3))**2\n",
    "    \n",
    "derivative(f, 1.0, dx=1e-6)"
   ]
  },
  {
   "cell_type": "markdown",
   "metadata": {},
   "source": [
    "## Задание 3\n",
    "Дана функция с неизвестными параметрами a и b, вам также известны значения функции fx в точках x. Найдите оптимальные параметры a, b, минимизирующие абсолютную ошибку <b>error</b>."
   ]
  },
  {
   "cell_type": "code",
   "execution_count": 548,
   "metadata": {},
   "outputs": [],
   "source": [
    "def f(x, a, b):\n",
    "    return np.e**a * np.sin(b*x) + x"
   ]
  },
  {
   "cell_type": "code",
   "execution_count": 549,
   "metadata": {},
   "outputs": [],
   "source": [
    "x = np.array([0.        , 0.26315789, 0.52631579, 0.78947368, 1.05263158,\n",
    "              1.31578947, 1.57894737, 1.84210526, 2.10526316, 2.36842105,\n",
    "              2.63157895, 2.89473684, 3.15789474, 3.42105263, 3.68421053,\n",
    "              3.94736842, 4.21052632, 4.47368421, 4.73684211, 5.        ])"
   ]
  },
  {
   "cell_type": "code",
   "execution_count": 550,
   "metadata": {},
   "outputs": [],
   "source": [
    "fx = np.array([  0.        , -12.01819092, -18.90968634, -17.68786571,\n",
    "                -8.7529108 ,   4.27524517,  16.06801336,  21.81250213,\n",
    "                19.22059845,   9.48411207,  -3.22273056, -13.48576488,\n",
    "               -16.91096359, -11.95866834,  -0.58630088,  12.56873816,\n",
    "                22.12489421,  24.20292139,  18.04522521,   6.33211092])"
   ]
  },
  {
   "cell_type": "code",
   "execution_count": 551,
   "metadata": {},
   "outputs": [
    {
     "data": {
      "image/png": "[encoded data removed]",
      "text/plain": [
       "<Figure size 432x288 with 1 Axes>"
      ]
     },
     "metadata": {
      "needs_background": "light"
     },
     "output_type": "display_data"
    }
   ],
   "source": [
    "plt.plot(x, fx)\n",
    "plt.show()"
   ]
  },
  {
   "cell_type": "code",
   "execution_count": 552,
   "metadata": {},
   "outputs": [],
   "source": [
    "def error(params):\n",
    "    return np.sum(np.abs(fx - f(x, params[0], params[1])))"
   ]
  },
  {
   "cell_type": "markdown",
   "metadata": {},
   "source": [
    "Решение"
   ]
  },
  {
   "cell_type": "code",
   "execution_count": 553,
   "metadata": {},
   "outputs": [
    {
     "name": "stdout",
     "output_type": "stream",
     "text": [
      "Optimization terminated successfully.\n",
      "         Current function value: 241.474709\n",
      "         Iterations: 108\n",
      "         Function evaluations: 215\n"
     ]
    }
   ],
   "source": [
    "#Запускаем оптимизацию, указываем начальную точку, метод и условия успеха\n",
    "params = np.random.uniform(low=-5, high=5, size=(2,))\n",
    "res = minimize(error, params, method='nelder-mead', options = {'xtol': 1e-10, 'disp' : True} )"
   ]
  },
  {
   "cell_type": "code",
   "execution_count": 554,
   "metadata": {},
   "outputs": [
    {
     "data": {
      "text/plain": [
       " final_simplex: (array([[ 1.19065725, -3.92465288],\n",
       "       [ 1.19065725, -3.92465288],\n",
       "       [ 1.19065725, -3.92465288]]), array([241.47470853, 241.47470853, 241.47470853]))\n",
       "           fun: 241.47470852947814\n",
       "       message: 'Optimization terminated successfully.'\n",
       "          nfev: 215\n",
       "           nit: 108\n",
       "        status: 0\n",
       "       success: True\n",
       "             x: array([ 1.19065725, -3.92465288])"
      ]
     },
     "execution_count": 554,
     "metadata": {},
     "output_type": "execute_result"
    }
   ],
   "source": [
    "#Окно результатов\n",
    "res"
   ]
  },
  {
   "cell_type": "code",
   "execution_count": 555,
   "metadata": {},
   "outputs": [
    {
     "data": {
      "text/plain": [
       "array([ 1.19065725, -3.92465288])"
      ]
     },
     "execution_count": 555,
     "metadata": {},
     "output_type": "execute_result"
    }
   ],
   "source": [
    "#Лучшие параметры\n",
    "res.x"
   ]
  },
  {
   "cell_type": "markdown",
   "metadata": {},
   "source": [
    "Сделаем несколько итераций"
   ]
  },
  {
   "cell_type": "code",
   "execution_count": 556,
   "metadata": {},
   "outputs": [],
   "source": [
    "itlist = []\n",
    "reslist = []\n",
    "result = 0.0000000001\n",
    "\n",
    "for kk in range(100):\n",
    "    \n",
    "    params = np.random.uniform(low=-5, high=5, size=(2,))\n",
    "    res = minimize(error, params, method='nelder-mead', options = {'xtol': 1e-10, 'disp' : False} )\n",
    "    \n",
    "    itlist.append(res.nit)\n",
    "    reslist.append(error(res.x))\n",
    "    \n",
    "    if res.fun < result:\n",
    "        result = res.fun\n",
    "        best_params = res.x"
   ]
  },
  {
   "cell_type": "code",
   "execution_count": 557,
   "metadata": {},
   "outputs": [
    {
     "data": {
      "text/plain": [
       "array([1.95282587, 1.56625207])"
      ]
     },
     "execution_count": 557,
     "metadata": {},
     "output_type": "execute_result"
    }
   ],
   "source": [
    "res.x"
   ]
  },
  {
   "cell_type": "markdown",
   "metadata": {},
   "source": [
    "Подтверждено многими экспериментами :) \n",
    "\n",
    "На самом деле получались также и другие числа, но здесь можно анализировать также число итераций плюс сравнивать конкретные результаты "
   ]
  },
  {
   "cell_type": "markdown",
   "metadata": {},
   "source": [
    "## Задание 4\n",
    "Создайте собственную дискретную случайную величину с 20 значениями. Сгенерируйте 1000 выборок размера 50. Посчитайте среднее для каждой выборки. Постройте гистограмму распределения средних."
   ]
  },
  {
   "cell_type": "code",
   "execution_count": 558,
   "metadata": {},
   "outputs": [
    {
     "data": {
      "image/png": "[encoded data removed]",
      "text/plain": [
       "<Figure size 432x288 with 1 Axes>"
      ]
     },
     "metadata": {
      "needs_background": "light"
     },
     "output_type": "display_data"
    }
   ],
   "source": [
    "plt.figure()\n",
    "\n",
    "#Создаем случайную величину и задаем число выборок\n",
    "elements = np.random.uniform(low=0, high=42, size=(20,)).round()\n",
    "n = 1000\n",
    "\n",
    "#Делаем 1000 выборок размера 50, считаем среднее для каждой\n",
    "values = np.zeros((n, 1))\n",
    "for i in range(n):\n",
    "    values[i,0] = np.mean(np.random.choice(elements, 50))\n",
    "    \n",
    "#Рисуем \n",
    "plt.hist(values, 50, color = 'g')\n",
    "plt.xlabel('value')\n",
    "plt.ylabel('frequency')\n",
    "plt.grid()\n",
    "\n",
    "plt.show()"
   ]
  },
  {
   "cell_type": "markdown",
   "metadata": {},
   "source": [
    "## Задание 5\n",
    "Найдите собственные значения и собственные вектора матрицы (на python и на бумаге):\n",
    "\n",
    "m = np.array([[1, 4],\n",
    "              [1, 1]])\n",
    "              \n",
    "print(m)"
   ]
  },
  {
   "cell_type": "code",
   "execution_count": 559,
   "metadata": {},
   "outputs": [
    {
     "data": {
      "text/plain": [
       "array([[1, 4],\n",
       "       [1, 1]])"
      ]
     },
     "execution_count": 559,
     "metadata": {},
     "output_type": "execute_result"
    }
   ],
   "source": [
    "m = np.array( [[1, 4], [1, 1]] )\n",
    "m"
   ]
  },
  {
   "cell_type": "code",
   "execution_count": 560,
   "metadata": {},
   "outputs": [
    {
     "name": "stdout",
     "output_type": "stream",
     "text": [
      "Собственное значение  3.0000000000000004\n",
      "соответствующий ему собственный вектор  [ 0.89442719 -0.89442719]\n",
      "\n",
      "Собственное значение  -0.9999999999999996\n",
      "соответствующий ему собственный вектор  [0.4472136 0.4472136]\n",
      "\n"
     ]
    }
   ],
   "source": [
    "#Используем команду из linalg и сразу обращаемся к обоим объектам\n",
    "w, v = np.linalg.eig(m)\n",
    "\n",
    "for i in range(len(w)):\n",
    "    \n",
    "    print(\"Собственное значение \", w[i])\n",
    "    print(\"соответствующий ему собственный вектор \", v[i] )\n",
    "    print('')"
   ]
  },
  {
   "cell_type": "code",
   "execution_count": 561,
   "metadata": {},
   "outputs": [
    {
     "data": {
      "text/plain": [
       "(array([ 3., -1.]), array([[ 0.89442719, -0.89442719],\n",
       "        [ 0.4472136 ,  0.4472136 ]]))"
      ]
     },
     "execution_count": 561,
     "metadata": {},
     "output_type": "execute_result"
    }
   ],
   "source": [
    "np.linalg.eig(m)"
   ]
  }
 ],
 "metadata": {
  "colab": {
   "collapsed_sections": [],
   "name": "netology_clas_clust.ipynb",
   "provenance": []
  },
  "kernelspec": {
   "display_name": "Python 3",
   "language": "python",
   "name": "python3"
  },
  "language_info": {
   "codemirror_mode": {
    "name": "ipython",
    "version": 3
   },
   "file_extension": ".py",
   "mimetype": "text/x-python",
   "name": "python",
   "nbconvert_exporter": "python",
   "pygments_lexer": "ipython3",
   "version": "3.7.3"
  }
 },
 "nbformat": 4,
 "nbformat_minor": 1
}
